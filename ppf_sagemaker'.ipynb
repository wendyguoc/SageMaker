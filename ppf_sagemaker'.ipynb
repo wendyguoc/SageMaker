{
 "cells": [
  {
   "cell_type": "code",
   "execution_count": 1,
   "metadata": {},
   "outputs": [],
   "source": [
    "## Importing relevant packages\n",
    "\n",
    "import pandas as pd\n",
    "import numpy as np\n",
    "import matplotlib.pyplot as plt\n",
    "import io\n",
    "import os\n",
    "import datetime as dt\n",
    "import pickle as pkl\n",
    "from sklearn import metrics\n",
    "from sklearn.metrics import confusion_matrix\n",
    "from sklearn.metrics import accuracy_score\n",
    "from sklearn.metrics import roc_auc_score\n",
    "\n",
    "import sagemaker\n",
    "import boto3\n",
    "from sagemaker.predictor import csv_serializer\n",
    "from sagemaker import get_execution_role\n",
    "# !pip install -U sagemaker\n"
   ]
  },
  {
   "cell_type": "code",
   "execution_count": 1,
   "metadata": {},
   "outputs": [
    {
     "ename": "NameError",
     "evalue": "name 'pd' is not defined",
     "output_type": "error",
     "traceback": [
      "\u001b[0;31m---------------------------------------------------------------------------\u001b[0m",
      "\u001b[0;31mNameError\u001b[0m                                 Traceback (most recent call last)",
      "\u001b[0;32m<ipython-input-1-1944bd396c81>\u001b[0m in \u001b[0;36m<module>\u001b[0;34m\u001b[0m\n\u001b[1;32m      4\u001b[0m \u001b[0;34m\u001b[0m\u001b[0m\n\u001b[1;32m      5\u001b[0m \u001b[0ms3_surce_path\u001b[0m \u001b[0;34m=\u001b[0m \u001b[0;34m's3://{}/propensity_to_fund/source'\u001b[0m\u001b[0;34m.\u001b[0m\u001b[0mformat\u001b[0m\u001b[0;34m(\u001b[0m\u001b[0mbucket\u001b[0m\u001b[0;34m)\u001b[0m\u001b[0;34m\u001b[0m\u001b[0;34m\u001b[0m\u001b[0m\n\u001b[0;32m----> 6\u001b[0;31m \u001b[0mdf\u001b[0m \u001b[0;34m=\u001b[0m \u001b[0mpd\u001b[0m\u001b[0;34m.\u001b[0m\u001b[0mread_csv\u001b[0m\u001b[0;34m(\u001b[0m\u001b[0;34m'{}/ppf_dev3.csv'\u001b[0m\u001b[0;34m.\u001b[0m\u001b[0mformat\u001b[0m\u001b[0;34m(\u001b[0m\u001b[0ms3_surce_path\u001b[0m\u001b[0;34m)\u001b[0m\u001b[0;34m)\u001b[0m\u001b[0;34m\u001b[0m\u001b[0;34m\u001b[0m\u001b[0m\n\u001b[0m",
      "\u001b[0;31mNameError\u001b[0m: name 'pd' is not defined"
     ]
    }
   ],
   "source": [
    "bucket = 'mf-ml-ds'\n",
    "\n",
    "prefix = 'propensity_to_fund/source'\n",
    "\n",
    "s3_surce_path = 's3://{}/propensity_to_fund/source'.format(bucket)\n",
    "df = pd.read_csv('{}/ppf_dev3.csv'.format(s3_surce_path))\n"
   ]
  },
  {
   "cell_type": "markdown",
   "metadata": {},
   "source": [
    "# Feature Engineering"
   ]
  },
  {
   "cell_type": "code",
   "execution_count": 3,
   "metadata": {},
   "outputs": [],
   "source": [
    "#apply the p1 p99 first then do the missing impute with max (p99) value or min value (p1), all data is capped at p99\n",
    "ptable = pd.DataFrame()\n",
    "\n",
    "for col in df.columns:\n",
    "    percentiles = df[col].quantile([0.01,0.99]).values\n",
    "    ptable[col]=percentiles\n",
    "    \n",
    "    "
   ]
  },
  {
   "cell_type": "code",
   "execution_count": 4,
   "metadata": {},
   "outputs": [],
   "source": [
    "ptable.to_csv('../propensity_to_fund/model_monitor/capfloor.csv', index=False)"
   ]
  },
  {
   "cell_type": "code",
   "execution_count": 5,
   "metadata": {},
   "outputs": [],
   "source": [
    "def setMax(df, pdf, var):\n",
    "\n",
    "      df[var].fillna(pdf.max()[var], inplace=True)"
   ]
  },
  {
   "cell_type": "code",
   "execution_count": 6,
   "metadata": {},
   "outputs": [],
   "source": [
    "def impute_ppf(df, ptable):\n",
    "    for col in df.columns:\n",
    "        p1 = ptable[col].min()\n",
    "        p99= ptable[col].max()\n",
    "        \n",
    "    \n",
    "        df.loc[df[col] <= p1, col] = p1\n",
    "        df.loc[df[col] >= p99, col] = p99    \n",
    "\n",
    "    items=['req_loan_amt','sixty_plus_dlq_all_la4', 'tot_open_to_buy_bankcard_ope','tot_open_to_buy_bankcard_ope','coll_gt_300_non_medical_2', \n",
    "       'credit_inq_retail_lst_6_m','mth_since_most_rec_non_finan',  'mth_since_most_rec_credit_ca',\n",
    "       'tot_credit_limit_revolving_o','current_bal_revolving_closed','mth_since_most_rec_acct_o0',\n",
    "       'pmt_non_mortgage_closed','ficoscore','tot_joint_mortgage_pmt']\n",
    "    for item in items:\n",
    "        setMax(df, ptable, item)  "
   ]
  },
  {
   "cell_type": "code",
   "execution_count": 7,
   "metadata": {},
   "outputs": [],
   "source": [
    "df=df.fillna(0)"
   ]
  },
  {
   "cell_type": "code",
   "execution_count": 8,
   "metadata": {},
   "outputs": [
    {
     "data": {
      "text/html": [
       "<div>\n",
       "<style scoped>\n",
       "    .dataframe tbody tr th:only-of-type {\n",
       "        vertical-align: middle;\n",
       "    }\n",
       "\n",
       "    .dataframe tbody tr th {\n",
       "        vertical-align: top;\n",
       "    }\n",
       "\n",
       "    .dataframe thead th {\n",
       "        text-align: right;\n",
       "    }\n",
       "</style>\n",
       "<table border=\"1\" class=\"dataframe\">\n",
       "  <thead>\n",
       "    <tr style=\"text-align: right;\">\n",
       "      <th></th>\n",
       "      <th>age</th>\n",
       "      <th>req_loan_amt</th>\n",
       "      <th>self_rpt_mortgage_or_rental</th>\n",
       "      <th>self_rpt_years_at_current_a</th>\n",
       "      <th>distancetobranch</th>\n",
       "      <th>No_of_open_home_equity_accou</th>\n",
       "      <th>mortgage_accts_opened_within</th>\n",
       "      <th>tot_joint_mortgage_pmt</th>\n",
       "      <th>mth_since_most_rec_acct_o0</th>\n",
       "      <th>mth_since_most_rec_acct_18</th>\n",
       "      <th>...</th>\n",
       "      <th>SR_empstatus_Hourly</th>\n",
       "      <th>SR_Hownership_Home</th>\n",
       "      <th>SR_OthResi</th>\n",
       "      <th>source_CK_API</th>\n",
       "      <th>contact_state_priority</th>\n",
       "      <th>ref_code_priority</th>\n",
       "      <th>utm_medium_priority</th>\n",
       "      <th>FPD_flag</th>\n",
       "      <th>ever60by4_flag</th>\n",
       "      <th>distancetobranch_Z</th>\n",
       "    </tr>\n",
       "    <tr>\n",
       "      <th>fund_flag</th>\n",
       "      <th></th>\n",
       "      <th></th>\n",
       "      <th></th>\n",
       "      <th></th>\n",
       "      <th></th>\n",
       "      <th></th>\n",
       "      <th></th>\n",
       "      <th></th>\n",
       "      <th></th>\n",
       "      <th></th>\n",
       "      <th></th>\n",
       "      <th></th>\n",
       "      <th></th>\n",
       "      <th></th>\n",
       "      <th></th>\n",
       "      <th></th>\n",
       "      <th></th>\n",
       "      <th></th>\n",
       "      <th></th>\n",
       "      <th></th>\n",
       "      <th></th>\n",
       "    </tr>\n",
       "  </thead>\n",
       "  <tbody>\n",
       "    <tr>\n",
       "      <th>0</th>\n",
       "      <td>41.248756</td>\n",
       "      <td>5794.558651</td>\n",
       "      <td>605.272118</td>\n",
       "      <td>0.307820</td>\n",
       "      <td>4.142629</td>\n",
       "      <td>0.012292</td>\n",
       "      <td>0.046741</td>\n",
       "      <td>114.385676</td>\n",
       "      <td>7.77226</td>\n",
       "      <td>23.73153</td>\n",
       "      <td>...</td>\n",
       "      <td>0.056543</td>\n",
       "      <td>0.26187</td>\n",
       "      <td>0.506122</td>\n",
       "      <td>0.361392</td>\n",
       "      <td>1.646624</td>\n",
       "      <td>1.436103</td>\n",
       "      <td>0.897638</td>\n",
       "      <td>2.000000</td>\n",
       "      <td>2.000000</td>\n",
       "      <td>0.779480</td>\n",
       "    </tr>\n",
       "    <tr>\n",
       "      <th>1</th>\n",
       "      <td>44.583554</td>\n",
       "      <td>5405.836452</td>\n",
       "      <td>1498.300310</td>\n",
       "      <td>0.510131</td>\n",
       "      <td>2.203979</td>\n",
       "      <td>0.015013</td>\n",
       "      <td>0.074519</td>\n",
       "      <td>108.161449</td>\n",
       "      <td>6.93689</td>\n",
       "      <td>26.02017</td>\n",
       "      <td>...</td>\n",
       "      <td>0.053892</td>\n",
       "      <td>0.33636</td>\n",
       "      <td>0.286575</td>\n",
       "      <td>0.402711</td>\n",
       "      <td>1.998814</td>\n",
       "      <td>1.868623</td>\n",
       "      <td>1.271425</td>\n",
       "      <td>0.012458</td>\n",
       "      <td>0.081044</td>\n",
       "      <td>0.869307</td>\n",
       "    </tr>\n",
       "  </tbody>\n",
       "</table>\n",
       "<p>2 rows × 53 columns</p>\n",
       "</div>"
      ],
      "text/plain": [
       "                 age  req_loan_amt  self_rpt_mortgage_or_rental  \\\n",
       "fund_flag                                                         \n",
       "0          41.248756   5794.558651                   605.272118   \n",
       "1          44.583554   5405.836452                  1498.300310   \n",
       "\n",
       "           self_rpt_years_at_current_a  distancetobranch  \\\n",
       "fund_flag                                                  \n",
       "0                             0.307820          4.142629   \n",
       "1                             0.510131          2.203979   \n",
       "\n",
       "           No_of_open_home_equity_accou  mortgage_accts_opened_within  \\\n",
       "fund_flag                                                               \n",
       "0                              0.012292                      0.046741   \n",
       "1                              0.015013                      0.074519   \n",
       "\n",
       "           tot_joint_mortgage_pmt  mth_since_most_rec_acct_o0  \\\n",
       "fund_flag                                                       \n",
       "0                      114.385676                     7.77226   \n",
       "1                      108.161449                     6.93689   \n",
       "\n",
       "           mth_since_most_rec_acct_18  ...  SR_empstatus_Hourly  \\\n",
       "fund_flag                              ...                        \n",
       "0                            23.73153  ...             0.056543   \n",
       "1                            26.02017  ...             0.053892   \n",
       "\n",
       "           SR_Hownership_Home  SR_OthResi  source_CK_API  \\\n",
       "fund_flag                                                  \n",
       "0                     0.26187    0.506122       0.361392   \n",
       "1                     0.33636    0.286575       0.402711   \n",
       "\n",
       "           contact_state_priority  ref_code_priority  utm_medium_priority  \\\n",
       "fund_flag                                                                   \n",
       "0                        1.646624           1.436103             0.897638   \n",
       "1                        1.998814           1.868623             1.271425   \n",
       "\n",
       "           FPD_flag  ever60by4_flag  distancetobranch_Z  \n",
       "fund_flag                                                \n",
       "0          2.000000        2.000000            0.779480  \n",
       "1          0.012458        0.081044            0.869307  \n",
       "\n",
       "[2 rows x 53 columns]"
      ]
     },
     "execution_count": 8,
     "metadata": {},
     "output_type": "execute_result"
    }
   ],
   "source": [
    "#check the mean of each variable by the group by bad performance variable\n",
    "df.groupby('fund_flag').mean()"
   ]
  },
  {
   "cell_type": "markdown",
   "metadata": {},
   "source": [
    "# ML preparation"
   ]
  },
  {
   "cell_type": "code",
   "execution_count": 9,
   "metadata": {},
   "outputs": [],
   "source": [
    "#split the model development sample into train and test sample\n",
    "from sklearn.model_selection import train_test_split\n",
    "\n",
    "X_train, X_test, y_train, y_test=train_test_split(df.drop(['fund_flag','FPD_flag','ever60by4_flag','SR_OthResi'], axis='columns'), df.fund_flag, test_size=0.3)"
   ]
  },
  {
   "cell_type": "code",
   "execution_count": 10,
   "metadata": {},
   "outputs": [],
   "source": [
    "feature_names = X_train.loc[1:1,]"
   ]
  },
  {
   "cell_type": "code",
   "execution_count": 11,
   "metadata": {},
   "outputs": [
    {
     "data": {
      "text/html": [
       "<div>\n",
       "<style scoped>\n",
       "    .dataframe tbody tr th:only-of-type {\n",
       "        vertical-align: middle;\n",
       "    }\n",
       "\n",
       "    .dataframe tbody tr th {\n",
       "        vertical-align: top;\n",
       "    }\n",
       "\n",
       "    .dataframe thead th {\n",
       "        text-align: right;\n",
       "    }\n",
       "</style>\n",
       "<table border=\"1\" class=\"dataframe\">\n",
       "  <thead>\n",
       "    <tr style=\"text-align: right;\">\n",
       "      <th></th>\n",
       "      <th>age</th>\n",
       "      <th>req_loan_amt</th>\n",
       "      <th>self_rpt_mortgage_or_rental</th>\n",
       "      <th>self_rpt_years_at_current_a</th>\n",
       "      <th>distancetobranch</th>\n",
       "      <th>No_of_open_home_equity_accou</th>\n",
       "      <th>mortgage_accts_opened_within</th>\n",
       "      <th>tot_joint_mortgage_pmt</th>\n",
       "      <th>mth_since_most_rec_acct_o0</th>\n",
       "      <th>mth_since_most_rec_acct_18</th>\n",
       "      <th>...</th>\n",
       "      <th>maxmonthly_pmt</th>\n",
       "      <th>self_rpt_hhld_annual_i</th>\n",
       "      <th>borrower_type_FB</th>\n",
       "      <th>SR_empstatus_Hourly</th>\n",
       "      <th>SR_Hownership_Home</th>\n",
       "      <th>source_CK_API</th>\n",
       "      <th>contact_state_priority</th>\n",
       "      <th>ref_code_priority</th>\n",
       "      <th>utm_medium_priority</th>\n",
       "      <th>distancetobranch_Z</th>\n",
       "    </tr>\n",
       "  </thead>\n",
       "  <tbody>\n",
       "    <tr>\n",
       "      <th>1</th>\n",
       "      <td>31</td>\n",
       "      <td>2000</td>\n",
       "      <td>0.0</td>\n",
       "      <td>0.0</td>\n",
       "      <td>0.0</td>\n",
       "      <td>0.0</td>\n",
       "      <td>0.0</td>\n",
       "      <td>0.0</td>\n",
       "      <td>5.0</td>\n",
       "      <td>0.0</td>\n",
       "      <td>...</td>\n",
       "      <td>0.0</td>\n",
       "      <td>60000</td>\n",
       "      <td>0</td>\n",
       "      <td>1</td>\n",
       "      <td>0</td>\n",
       "      <td>1</td>\n",
       "      <td>4</td>\n",
       "      <td>2</td>\n",
       "      <td>1</td>\n",
       "      <td>1</td>\n",
       "    </tr>\n",
       "  </tbody>\n",
       "</table>\n",
       "<p>1 rows × 50 columns</p>\n",
       "</div>"
      ],
      "text/plain": [
       "   age  req_loan_amt  self_rpt_mortgage_or_rental  \\\n",
       "1   31          2000                          0.0   \n",
       "\n",
       "   self_rpt_years_at_current_a  distancetobranch  \\\n",
       "1                          0.0               0.0   \n",
       "\n",
       "   No_of_open_home_equity_accou  mortgage_accts_opened_within  \\\n",
       "1                           0.0                           0.0   \n",
       "\n",
       "   tot_joint_mortgage_pmt  mth_since_most_rec_acct_o0  \\\n",
       "1                     0.0                         5.0   \n",
       "\n",
       "   mth_since_most_rec_acct_18  ...  maxmonthly_pmt  self_rpt_hhld_annual_i  \\\n",
       "1                         0.0  ...             0.0                   60000   \n",
       "\n",
       "   borrower_type_FB  SR_empstatus_Hourly  SR_Hownership_Home  source_CK_API  \\\n",
       "1                 0                    1                   0              1   \n",
       "\n",
       "   contact_state_priority  ref_code_priority  utm_medium_priority  \\\n",
       "1                       4                  2                    1   \n",
       "\n",
       "   distancetobranch_Z  \n",
       "1                   1  \n",
       "\n",
       "[1 rows x 50 columns]"
      ]
     },
     "execution_count": 11,
     "metadata": {},
     "output_type": "execute_result"
    }
   ],
   "source": [
    "feature_names"
   ]
  },
  {
   "cell_type": "markdown",
   "metadata": {},
   "source": [
    "# XGBoost container expects CSV data format on S3"
   ]
  },
  {
   "cell_type": "code",
   "execution_count": 12,
   "metadata": {},
   "outputs": [],
   "source": [
    "train_csv = 'train.csv'\n",
    "validation_csv = 'validation.csv'\n",
    "feature_csv='feature.csv'"
   ]
  },
  {
   "cell_type": "code",
   "execution_count": 13,
   "metadata": {},
   "outputs": [],
   "source": [
    "pd.concat([y_train.to_frame(), X_train], axis=1).to_csv(train_csv, index=False, header=False)\n",
    "pd.concat([y_test.to_frame(), X_test], axis=1).to_csv(validation_csv, index=False, header=False)\n",
    "feature_names.to_csv(feature_csv,index=False)"
   ]
  },
  {
   "cell_type": "code",
   "execution_count": 14,
   "metadata": {},
   "outputs": [],
   "source": [
    "role = get_execution_role()            ## Run this before the training job to get your IAM role\n",
    "region = boto3.Session().region_name   ## Run this here, you will need it during training\n",
    "\n",
    "\n",
    "boto3.Session().resource('s3').Bucket(bucket).Object(os.path.join(prefix, 'train/'+ train_csv )).upload_file(train_csv)\n",
    "boto3.Session().resource('s3').Bucket(bucket).Object(os.path.join(prefix, 'validation/' + validation_csv)).upload_file(validation_csv)\n",
    "boto3.Session().resource('s3').Bucket(bucket).Object(os.path.join(prefix, 'feature/' + feature_csv)).upload_file(feature_csv)"
   ]
  },
  {
   "cell_type": "code",
   "execution_count": 16,
   "metadata": {},
   "outputs": [
    {
     "name": "stdout",
     "output_type": "stream",
     "text": [
      "rm: cannot remove ‘train.csv’: No such file or directory\r\n"
     ]
    }
   ],
   "source": [
    "!rm {train_csv} {validation_csv} {feature_csv}\n"
   ]
  },
  {
   "cell_type": "markdown",
   "metadata": {},
   "source": [
    "# Model training"
   ]
  },
  {
   "cell_type": "code",
   "execution_count": 17,
   "metadata": {},
   "outputs": [],
   "source": [
    "import sagemaker\n",
    "from sagemaker import get_execution_role\n",
    "from sagemaker import image_uris\n",
    "from sagemaker.amazon.amazon_estimator import get_image_uri\n",
    "from sagemaker.inputs import TrainingInput\n"
   ]
  },
  {
   "cell_type": "code",
   "execution_count": 18,
   "metadata": {},
   "outputs": [],
   "source": [
    "role = get_execution_role()\n"
   ]
  },
  {
   "cell_type": "code",
   "execution_count": 19,
   "metadata": {},
   "outputs": [],
   "source": [
    "container = sagemaker.image_uris.retrieve(\"xgboost\", boto3.Session().region_name, \"1.2-1\" )"
   ]
  },
  {
   "cell_type": "code",
   "execution_count": 20,
   "metadata": {},
   "outputs": [
    {
     "data": {
      "text/plain": [
       "'683313688378.dkr.ecr.us-east-1.amazonaws.com/sagemaker-xgboost:1.2-1'"
      ]
     },
     "execution_count": 20,
     "metadata": {},
     "output_type": "execute_result"
    }
   ],
   "source": [
    "container"
   ]
  },
  {
   "cell_type": "code",
   "execution_count": 21,
   "metadata": {},
   "outputs": [],
   "source": [
    "\n",
    "# container = get_image_uri(region, 'xgboost', \"1.2-1\")\n",
    "sms = sagemaker.Session()\n"
   ]
  },
  {
   "cell_type": "code",
   "execution_count": 43,
   "metadata": {},
   "outputs": [],
   "source": [
    "train_data_path      = 's3://{}/{}/{}'.format(bucket, prefix, 'train')\n",
    "validation_data_path = 's3://{}/{}/{}'.format(bucket, prefix, 'validation')\n",
    "s3_output_location   = 's3://{}/{}/{}'.format(bucket, prefix, 'xgboost_model_sdk')\n",
    "feature_location = 's3://{}/{}/{}'.format(bucket, prefix, 'feature')"
   ]
  },
  {
   "cell_type": "code",
   "execution_count": 44,
   "metadata": {},
   "outputs": [],
   "source": [
    "df_feature = pd.read_csv(feature_location+'/feature.csv')"
   ]
  },
  {
   "cell_type": "code",
   "execution_count": 45,
   "metadata": {},
   "outputs": [],
   "source": [
    "feature_names = df_feature.columns\n"
   ]
  },
  {
   "cell_type": "code",
   "execution_count": 46,
   "metadata": {},
   "outputs": [],
   "source": [
    "nfeatures = str(len(feature_names))"
   ]
  },
  {
   "cell_type": "code",
   "execution_count": 47,
   "metadata": {},
   "outputs": [],
   "source": [
    "s3_input_train = TrainingInput(s3_data=train_data_path, content_type='csv')\n",
    "s3_input_validation = TrainingInput(s3_data=validation_data_path, content_type='csv')"
   ]
  },
  {
   "cell_type": "code",
   "execution_count": 88,
   "metadata": {},
   "outputs": [],
   "source": [
    "from sagemaker.debugger import ProfilerConfig, DebuggerHookConfig, Rule, ProfilerRule, rule_configs,CollectionConfig"
   ]
  },
  {
   "cell_type": "code",
   "execution_count": 89,
   "metadata": {},
   "outputs": [],
   "source": [
    "save_interval = 5\n",
    "profiler_config=ProfilerConfig()\n",
    "debugger_hook_config=DebuggerHookConfig(\n",
    "    s3_output_path = s3_output_location,\n",
    "    collection_configs=[\n",
    "            CollectionConfig(\n",
    "                name=\"metrics\",\n",
    "                parameters={\n",
    "                    \"save_interval\": str(save_interval)\n",
    "                }\n",
    "            ),\n",
    "#             CollectionConfig(\n",
    "#                 name=\"feature_importance\",\n",
    "#                 parameters={\n",
    "#                     \"save_interval\": str(save_interval)\n",
    "#                 }\n",
    "#             ),\n",
    "            CollectionConfig(\n",
    "                name=\"full_shap\",\n",
    "                parameters={\n",
    "                    \"save_interval\": str(save_interval)\n",
    "                }\n",
    "            ),\n",
    "            CollectionConfig(\n",
    "                name=\"average_shap\",\n",
    "                parameters={\n",
    "                    \"save_interval\": str(save_interval)\n",
    "                }\n",
    "            ),\n",
    "        ]\n",
    ")"
   ]
  },
  {
   "cell_type": "code",
   "execution_count": 90,
   "metadata": {},
   "outputs": [],
   "source": [
    "rules=[\n",
    "        #Rule.sagemaker(rule_configs.create_xgboost_report()),\n",
    "       ProfilerRule.sagemaker(rule_configs.ProfilerReport())\n",
    "       , Rule.sagemaker(\n",
    "        base_config=rule_configs.feature_importance_overweight(),\n",
    "        rule_parameters={\n",
    "                \"threshold\": \"0.0\",\n",
    "                \"nfeatures\": nfeatures\n",
    "                ,\"tensor_regex\": \".*feature_importance/weight\"\n",
    "                    },\n",
    "         collections_to_save=[\n",
    "            CollectionConfig(\n",
    "                name=\"feature_importance\"\n",
    "               ,parameters={\n",
    "                    \"save_interval\": \"5\"\n",
    "                } \n",
    "            )\n",
    "         ]\n",
    "    )\n",
    "]"
   ]
  },
  {
   "cell_type": "code",
   "execution_count": 91,
   "metadata": {},
   "outputs": [
    {
     "data": {
      "text/plain": [
       "[ProfilerRule(name='ProfilerReport', image_uri='DEFAULT_RULE_EVALUATOR_IMAGE', instance_type=None, container_local_output_path=None, s3_output_path=None, volume_size_in_gb=None, rule_parameters={'rule_to_invoke': 'ProfilerReport'}),\n",
       " Rule(name='FeatureImportanceOverweight', image_uri='DEFAULT_RULE_EVALUATOR_IMAGE', instance_type=None, container_local_output_path=None, s3_output_path=None, volume_size_in_gb=None, rule_parameters={'rule_to_invoke': 'FeatureImportanceOverweight', 'threshold': '0.0', 'nfeatures': '50', 'tensor_regex': '.*feature_importance/weight'})]"
      ]
     },
     "execution_count": 91,
     "metadata": {},
     "output_type": "execute_result"
    }
   ],
   "source": [
    "rules"
   ]
  },
  {
   "cell_type": "code",
   "execution_count": 92,
   "metadata": {},
   "outputs": [],
   "source": [
    "\n",
    "xgb = sagemaker.estimator.Estimator(\n",
    "                                    container,\n",
    "                                    role,\n",
    "                                    instance_count=1,\n",
    "                                    instance_type='ml.m5.xlarge',\n",
    "                                    output_path=s3_output_location,\n",
    "                                    sagemaker_session = sms,\n",
    "                                    base_job_name = 'mf-ml-ppf-sm-xgb-jn',\n",
    "    \n",
    "                                    # Debugger-specific parameters\n",
    "                                    profiler_config=profiler_config,\n",
    "                                    debugger_hook_config=debugger_hook_config,\n",
    "                                    rules=rules\n",
    "                            )\n"
   ]
  },
  {
   "cell_type": "code",
   "execution_count": 93,
   "metadata": {},
   "outputs": [],
   "source": [
    "xgb.set_hyperparameters(num_round=101,\n",
    "                        max_depth=5,\n",
    "                        eta=0.2,\n",
    "                        objective='binary:logistic',\n",
    "                        \n",
    "                        base_score=0.5,\n",
    "                        booster='gbtree',\n",
    "                        gamma=4,\n",
    "                        sample_type= 'weighted',\n",
    "                        min_child_weight=5,\n",
    "                     \n",
    "                        seed=42,\n",
    "                        subsample=0.7,\n",
    "                        verbosity=1,\n",
    "                        eval_metric='auc'\n",
    "                       )\n"
   ]
  },
  {
   "cell_type": "code",
   "execution_count": 94,
   "metadata": {},
   "outputs": [],
   "source": [
    "data_channels = {'train': s3_input_train, 'validation': s3_input_validation}"
   ]
  },
  {
   "cell_type": "code",
   "execution_count": 95,
   "metadata": {
    "scrolled": false
   },
   "outputs": [
    {
     "name": "stdout",
     "output_type": "stream",
     "text": [
      "2021-03-29 17:27:42 Starting - Starting the training job...\n",
      "2021-03-29 17:27:44 Starting - Launching requested ML instancesFeatureImportanceOverweight: InProgress\n",
      "ProfilerReport: InProgress\n",
      "......\n",
      "2021-03-29 17:28:59 Starting - Preparing the instances for training......\n",
      "2021-03-29 17:30:00 Downloading - Downloading input data\n",
      "2021-03-29 17:30:00 Training - Downloading the training image...\n",
      "2021-03-29 17:30:40 Training - Training image download completed. Training in progress..\u001b[34m[2021-03-29 17:30:42.140 ip-10-0-96-244.ec2.internal:1 INFO utils.py:27] RULE_JOB_STOP_SIGNAL_FILENAME: None\u001b[0m\n",
      "\u001b[34mINFO:sagemaker-containers:Imported framework sagemaker_xgboost_container.training\u001b[0m\n",
      "\u001b[34mINFO:sagemaker-containers:Failed to parse hyperparameter eval_metric value auc to Json.\u001b[0m\n",
      "\u001b[34mReturning the value itself\u001b[0m\n",
      "\u001b[34mINFO:sagemaker-containers:Failed to parse hyperparameter sample_type value weighted to Json.\u001b[0m\n",
      "\u001b[34mReturning the value itself\u001b[0m\n",
      "\u001b[34mINFO:sagemaker-containers:Failed to parse hyperparameter booster value gbtree to Json.\u001b[0m\n",
      "\u001b[34mReturning the value itself\u001b[0m\n",
      "\u001b[34mINFO:sagemaker-containers:Failed to parse hyperparameter objective value binary:logistic to Json.\u001b[0m\n",
      "\u001b[34mReturning the value itself\u001b[0m\n",
      "\u001b[34mINFO:sagemaker-containers:No GPUs detected (normal if no gpus installed)\u001b[0m\n",
      "\u001b[34mINFO:sagemaker_xgboost_container.training:Running XGBoost Sagemaker in algorithm mode\u001b[0m\n",
      "\u001b[34mINFO:root:Determined delimiter of CSV input is ','\u001b[0m\n",
      "\u001b[34mINFO:root:Determined delimiter of CSV input is ','\u001b[0m\n",
      "\u001b[34mINFO:root:Determined delimiter of CSV input is ','\u001b[0m\n",
      "\u001b[34mINFO:root:Determined delimiter of CSV input is ','\u001b[0m\n",
      "\u001b[34mINFO:root:Single node training.\u001b[0m\n",
      "\u001b[34mINFO:root:Debug hook created from config\u001b[0m\n",
      "\u001b[34mINFO:root:Train matrix has 175585 rows\u001b[0m\n",
      "\u001b[34mINFO:root:Validation matrix has 75252 rows\u001b[0m\n",
      "\u001b[34m[2021-03-29 17:30:42.831 ip-10-0-96-244.ec2.internal:1 INFO json_config.py:91] Creating hook from json_config at /opt/ml/input/config/debughookconfig.json.\u001b[0m\n",
      "\u001b[34m[2021-03-29 17:30:42.832 ip-10-0-96-244.ec2.internal:1 INFO hook.py:199] tensorboard_dir has not been set for the hook. SMDebug will not be exporting tensorboard summaries.\u001b[0m\n",
      "\u001b[34m[2021-03-29 17:30:42.832 ip-10-0-96-244.ec2.internal:1 INFO profiler_config_parser.py:102] User has disabled profiler.\u001b[0m\n",
      "\u001b[34m[2021-03-29 17:30:42.833 ip-10-0-96-244.ec2.internal:1 INFO hook.py:253] Saving to /opt/ml/output/tensors\u001b[0m\n",
      "\u001b[34m[2021-03-29 17:30:42.833 ip-10-0-96-244.ec2.internal:1 INFO state_store.py:67] The checkpoint config file /opt/ml/input/config/checkpointconfig.json does not exist.\u001b[0m\n",
      "\u001b[34m[17:30:42] WARNING: ../src/learner.cc:516: \u001b[0m\n",
      "\u001b[34mParameters: { sample_type } might not be used.\n",
      "\n",
      "  This may not be accurate due to some parameters are only used in language bindings but\n",
      "  passed down to XGBoost core.  Or some parameters are not used but slip through this\n",
      "  verification. Please open an issue if you find above cases.\n",
      "\n",
      "\u001b[0m\n",
      "\u001b[34m[0]#011train-auc:0.72637#011validation-auc:0.72089\u001b[0m\n",
      "\u001b[34m[2021-03-29 17:30:43.274 ip-10-0-96-244.ec2.internal:1 INFO hook.py:413] Monitoring the collections: feature_importance, metrics, average_shap, full_shap\u001b[0m\n",
      "\u001b[34m[2021-03-29 17:30:43.276 ip-10-0-96-244.ec2.internal:1 INFO hook.py:476] Hook is writing from the hook with pid: 1\n",
      "\u001b[0m\n",
      "\u001b[34m[1]#011train-auc:0.73851#011validation-auc:0.73130\u001b[0m\n",
      "\u001b[34m[2]#011train-auc:0.74130#011validation-auc:0.73341\u001b[0m\n",
      "\u001b[34m[3]#011train-auc:0.74465#011validation-auc:0.73537\u001b[0m\n",
      "\u001b[34m[4]#011train-auc:0.74628#011validation-auc:0.73707\u001b[0m\n",
      "\u001b[34m[5]#011train-auc:0.74846#011validation-auc:0.73803\u001b[0m\n",
      "\u001b[34m[6]#011train-auc:0.74998#011validation-auc:0.73872\u001b[0m\n",
      "\u001b[34m[7]#011train-auc:0.75176#011validation-auc:0.74016\u001b[0m\n",
      "\u001b[34m[8]#011train-auc:0.75398#011validation-auc:0.74231\u001b[0m\n",
      "\u001b[34m[9]#011train-auc:0.75673#011validation-auc:0.74499\u001b[0m\n",
      "\u001b[34m[10]#011train-auc:0.76024#011validation-auc:0.74766\u001b[0m\n",
      "\u001b[34m[11]#011train-auc:0.76211#011validation-auc:0.74911\u001b[0m\n",
      "\u001b[34m[12]#011train-auc:0.76507#011validation-auc:0.75174\u001b[0m\n",
      "\u001b[34m[13]#011train-auc:0.76844#011validation-auc:0.75465\u001b[0m\n",
      "\u001b[34m[14]#011train-auc:0.77055#011validation-auc:0.75647\u001b[0m\n",
      "\u001b[34m[15]#011train-auc:0.77236#011validation-auc:0.75771\u001b[0m\n",
      "\u001b[34m[16]#011train-auc:0.77415#011validation-auc:0.75920\u001b[0m\n",
      "\u001b[34m[17]#011train-auc:0.77580#011validation-auc:0.75994\u001b[0m\n",
      "\u001b[34m[18]#011train-auc:0.77734#011validation-auc:0.76072\u001b[0m\n",
      "\u001b[34m[19]#011train-auc:0.77911#011validation-auc:0.76182\u001b[0m\n",
      "\u001b[34m[20]#011train-auc:0.78074#011validation-auc:0.76275\u001b[0m\n",
      "\u001b[34m[21]#011train-auc:0.78263#011validation-auc:0.76423\u001b[0m\n",
      "\u001b[34m[22]#011train-auc:0.78433#011validation-auc:0.76507\u001b[0m\n",
      "\u001b[34m[23]#011train-auc:0.78539#011validation-auc:0.76562\u001b[0m\n",
      "\u001b[34m[24]#011train-auc:0.78708#011validation-auc:0.76657\u001b[0m\n",
      "\u001b[34m[25]#011train-auc:0.78812#011validation-auc:0.76722\u001b[0m\n",
      "\u001b[34m[26]#011train-auc:0.78913#011validation-auc:0.76752\u001b[0m\n",
      "\u001b[34m[27]#011train-auc:0.79032#011validation-auc:0.76827\u001b[0m\n",
      "\u001b[34m[28]#011train-auc:0.79112#011validation-auc:0.76876\u001b[0m\n",
      "\u001b[34m[29]#011train-auc:0.79184#011validation-auc:0.76914\u001b[0m\n",
      "\u001b[34m[30]#011train-auc:0.79295#011validation-auc:0.76948\u001b[0m\n",
      "\u001b[34m[31]#011train-auc:0.79381#011validation-auc:0.76989\u001b[0m\n",
      "\u001b[34m[32]#011train-auc:0.79472#011validation-auc:0.77004\u001b[0m\n",
      "\u001b[34m[33]#011train-auc:0.79525#011validation-auc:0.77029\u001b[0m\n",
      "\u001b[34m[34]#011train-auc:0.79591#011validation-auc:0.77078\u001b[0m\n",
      "\u001b[34m[35]#011train-auc:0.79662#011validation-auc:0.77099\u001b[0m\n",
      "\u001b[34m[36]#011train-auc:0.79731#011validation-auc:0.77118\u001b[0m\n",
      "\u001b[34m[37]#011train-auc:0.79800#011validation-auc:0.77114\u001b[0m\n",
      "\u001b[34m[38]#011train-auc:0.79860#011validation-auc:0.77154\u001b[0m\n",
      "\u001b[34m[39]#011train-auc:0.79934#011validation-auc:0.77191\u001b[0m\n",
      "\u001b[34m[40]#011train-auc:0.79994#011validation-auc:0.77237\u001b[0m\n",
      "\u001b[34m[41]#011train-auc:0.80068#011validation-auc:0.77257\u001b[0m\n",
      "\u001b[34m[42]#011train-auc:0.80121#011validation-auc:0.77269\u001b[0m\n",
      "\u001b[34m[43]#011train-auc:0.80187#011validation-auc:0.77298\u001b[0m\n",
      "\u001b[34m[44]#011train-auc:0.80254#011validation-auc:0.77313\u001b[0m\n",
      "\u001b[34m[45]#011train-auc:0.80302#011validation-auc:0.77315\u001b[0m\n",
      "\u001b[34m[46]#011train-auc:0.80340#011validation-auc:0.77320\u001b[0m\n",
      "\u001b[34m[47]#011train-auc:0.80370#011validation-auc:0.77337\u001b[0m\n",
      "\u001b[34m[48]#011train-auc:0.80433#011validation-auc:0.77337\u001b[0m\n",
      "\u001b[34m[49]#011train-auc:0.80469#011validation-auc:0.77339\u001b[0m\n",
      "\u001b[34m[50]#011train-auc:0.80501#011validation-auc:0.77348\u001b[0m\n",
      "\u001b[34m[51]#011train-auc:0.80550#011validation-auc:0.77348\u001b[0m\n",
      "\u001b[34m[52]#011train-auc:0.80621#011validation-auc:0.77379\u001b[0m\n",
      "\u001b[34m[53]#011train-auc:0.80671#011validation-auc:0.77378\u001b[0m\n",
      "\u001b[34m[54]#011train-auc:0.80701#011validation-auc:0.77386\u001b[0m\n",
      "\u001b[34m[55]#011train-auc:0.80753#011validation-auc:0.77389\u001b[0m\n",
      "\u001b[34m[56]#011train-auc:0.80783#011validation-auc:0.77394\u001b[0m\n",
      "\u001b[34m[57]#011train-auc:0.80807#011validation-auc:0.77402\u001b[0m\n",
      "\u001b[34m[58]#011train-auc:0.80845#011validation-auc:0.77419\u001b[0m\n",
      "\u001b[34m[59]#011train-auc:0.80875#011validation-auc:0.77424\u001b[0m\n",
      "\u001b[34m[60]#011train-auc:0.80901#011validation-auc:0.77426\u001b[0m\n",
      "\u001b[34m[61]#011train-auc:0.80959#011validation-auc:0.77441\u001b[0m\n",
      "\u001b[34m[62]#011train-auc:0.80991#011validation-auc:0.77445\u001b[0m\n",
      "\u001b[34m[63]#011train-auc:0.81019#011validation-auc:0.77447\u001b[0m\n",
      "\u001b[34m[64]#011train-auc:0.81045#011validation-auc:0.77459\u001b[0m\n",
      "\u001b[34m[65]#011train-auc:0.81085#011validation-auc:0.77470\u001b[0m\n",
      "\u001b[34m[66]#011train-auc:0.81109#011validation-auc:0.77459\u001b[0m\n",
      "\u001b[34m[67]#011train-auc:0.81143#011validation-auc:0.77480\u001b[0m\n",
      "\u001b[34m[68]#011train-auc:0.81172#011validation-auc:0.77482\u001b[0m\n",
      "\u001b[34m[69]#011train-auc:0.81193#011validation-auc:0.77486\u001b[0m\n",
      "\u001b[34m[70]#011train-auc:0.81226#011validation-auc:0.77486\u001b[0m\n",
      "\u001b[34m[71]#011train-auc:0.81263#011validation-auc:0.77496\u001b[0m\n",
      "\u001b[34m[72]#011train-auc:0.81278#011validation-auc:0.77490\u001b[0m\n",
      "\u001b[34m[73]#011train-auc:0.81326#011validation-auc:0.77512\u001b[0m\n",
      "\u001b[34m[74]#011train-auc:0.81336#011validation-auc:0.77518\u001b[0m\n",
      "\u001b[34m[75]#011train-auc:0.81368#011validation-auc:0.77512\u001b[0m\n",
      "\u001b[34m[76]#011train-auc:0.81413#011validation-auc:0.77511\u001b[0m\n",
      "\u001b[34m[77]#011train-auc:0.81457#011validation-auc:0.77504\u001b[0m\n",
      "\u001b[34m[78]#011train-auc:0.81490#011validation-auc:0.77496\u001b[0m\n",
      "\u001b[34m[79]#011train-auc:0.81519#011validation-auc:0.77490\u001b[0m\n",
      "\u001b[34m[80]#011train-auc:0.81537#011validation-auc:0.77483\u001b[0m\n",
      "FeatureImportanceOverweight: IssuesFound\n",
      "\u001b[34m[81]#011train-auc:0.81558#011validation-auc:0.77488\u001b[0m\n",
      "\u001b[34m[82]#011train-auc:0.81592#011validation-auc:0.77490\u001b[0m\n",
      "\u001b[34m[83]#011train-auc:0.81630#011validation-auc:0.77502\u001b[0m\n",
      "\u001b[34m[84]#011train-auc:0.81671#011validation-auc:0.77494\u001b[0m\n",
      "\u001b[34m[85]#011train-auc:0.81726#011validation-auc:0.77513\u001b[0m\n",
      "\u001b[34m[86]#011train-auc:0.81752#011validation-auc:0.77508\u001b[0m\n",
      "\u001b[34m[87]#011train-auc:0.81777#011validation-auc:0.77508\u001b[0m\n",
      "\u001b[34m[88]#011train-auc:0.81818#011validation-auc:0.77533\u001b[0m\n",
      "\u001b[34m[89]#011train-auc:0.81861#011validation-auc:0.77540\u001b[0m\n",
      "\u001b[34m[90]#011train-auc:0.81890#011validation-auc:0.77533\u001b[0m\n",
      "\u001b[34m[91]#011train-auc:0.81907#011validation-auc:0.77538\u001b[0m\n",
      "\u001b[34m[92]#011train-auc:0.81932#011validation-auc:0.77541\u001b[0m\n",
      "\u001b[34m[93]#011train-auc:0.81976#011validation-auc:0.77541\u001b[0m\n",
      "\u001b[34m[94]#011train-auc:0.82007#011validation-auc:0.77546\u001b[0m\n",
      "\u001b[34m[95]#011train-auc:0.82025#011validation-auc:0.77549\u001b[0m\n",
      "\u001b[34m[96]#011train-auc:0.82062#011validation-auc:0.77553\u001b[0m\n",
      "\u001b[34m[97]#011train-auc:0.82075#011validation-auc:0.77555\u001b[0m\n",
      "\u001b[34m[98]#011train-auc:0.82099#011validation-auc:0.77565\u001b[0m\n",
      "\u001b[34m[99]#011train-auc:0.82124#011validation-auc:0.77553\u001b[0m\n",
      "\u001b[34m[100]#011train-auc:0.82173#011validation-auc:0.77544\u001b[0m\n",
      "\n",
      "2021-03-29 17:42:44 Uploading - Uploading generated training model\n",
      "2021-03-29 17:43:03 Completed - Training job completed\n",
      "ProfilerReport: NoIssuesFound\n",
      "Training seconds: 794\n",
      "Billable seconds: 794\n"
     ]
    }
   ],
   "source": [
    "xgb.fit(data_channels,logs='All')\n"
   ]
  },
  {
   "cell_type": "code",
   "execution_count": 67,
   "metadata": {},
   "outputs": [],
   "source": [
    "# from sagemaker.transformer import transformer\n",
    "from sagemaker.predictor import Predictor"
   ]
  },
  {
   "cell_type": "code",
   "execution_count": 98,
   "metadata": {},
   "outputs": [
    {
     "data": {
      "text/plain": [
       "'s3://mf-ml-ds/propensity_to_fund/source/xgboost_model_sdk/mf-ml-ppf-sm-xgb-jn-2021-03-29-17-27-42-188/output/model.tar.gz'"
      ]
     },
     "execution_count": 98,
     "metadata": {},
     "output_type": "execute_result"
    }
   ],
   "source": [
    "xgb.model_data"
   ]
  },
  {
   "cell_type": "code",
   "execution_count": 99,
   "metadata": {},
   "outputs": [
    {
     "data": {
      "text/plain": [
       "'s3://mf-ml-ds/propensity_to_fund/source/xgboost_model_sdk/mf-ml-ppf-sm-xgb-jn-2021-03-29-17-27-42-188/debug-output'"
      ]
     },
     "execution_count": 99,
     "metadata": {},
     "output_type": "execute_result"
    }
   ],
   "source": [
    "xgb.latest_job_debugger_artifacts_path()"
   ]
  },
  {
   "cell_type": "code",
   "execution_count": 100,
   "metadata": {},
   "outputs": [
    {
     "name": "stdout",
     "output_type": "stream",
     "text": [
      "[2021-03-29 17:48:53.120 ip-172-16-50-54:1936 INFO s3_trial.py:42] Loading trial debug-output at path s3://mf-ml-ds/propensity_to_fund/source/xgboost_model_sdk/mf-ml-ppf-sm-xgb-jn-2021-03-29-17-27-42-188/debug-output\n"
     ]
    }
   ],
   "source": [
    "from smdebug.trials import create_trial\n",
    "s3_output_path = xgb.latest_job_debugger_artifacts_path()\n",
    "trial = create_trial(s3_output_path)"
   ]
  },
  {
   "cell_type": "code",
   "execution_count": 101,
   "metadata": {},
   "outputs": [],
   "source": [
    "from itertools import islice\n",
    "import matplotlib.pyplot as plt\n",
    "import re\n",
    "import seaborn as sns\n",
    "\n",
    "MAX_PLOTS = int(nfeatures)\n",
    "\n",
    "def get_data(trial, tname):\n",
    "    \"\"\"\n",
    "    For the given tensor name, walks though all the iterations\n",
    "    for which you have data and fetches the values.\n",
    "    Returns the set of steps and the values.\n",
    "    \"\"\"\n",
    "    tensor = trial.tensor(tname)\n",
    "    steps = tensor.steps()\n",
    "    vals = [tensor.value(s) for s in steps]\n",
    "    return steps, vals\n",
    "\n",
    "def match_tensor_name_with_feature_name(tensor_name, feature_names=feature_names):\n",
    "    feature_tag = tensor_name.split(\"/\")\n",
    "    for ifeat, feature_name in enumerate(feature_names):\n",
    "        if feature_tag[-1]==\"f{}\".format(str(ifeat)): return feature_name\n",
    "    return tensor_name\n",
    "\n",
    "def plot_collection(trial, collection_name, regex='.*', figsize=(8, 6)):\n",
    "    \"\"\"\n",
    "    Takes a `trial` and a collection name, and \n",
    "    plots all tensors that match the given regex.\n",
    "    \"\"\"\n",
    "    fig, ax = plt.subplots(figsize=figsize)\n",
    "    sns.despine()\n",
    "\n",
    "    tensors = trial.collection(collection_name).tensor_names\n",
    "    \n",
    "    matched_tensors = [t for t in tensors if re.match(regex, t)]\n",
    "    \n",
    "    print (matched_tensors)\n",
    "    for tensor_name in islice(matched_tensors, MAX_PLOTS):\n",
    "        if re.match(regex, tensor_name):\n",
    "            steps, data = get_data(trial, tensor_name)\n",
    "            ax.plot(steps, data, label=match_tensor_name_with_feature_name(tensor_name))\n",
    "\n",
    "    ax.legend(loc='center left', bbox_to_anchor=(1, 0.5))\n",
    "    ax.set_xlabel('Iteration')\n",
    "\n",
    "def plot_feature_importance(trial, importance_type=\"weight\"):\n",
    "    SUPPORTED_IMPORTANCE_TYPES = [\"weight\", \"gain\", \"cover\", \"total_gain\", \"total_cover\"]\n",
    "    if importance_type not in SUPPORTED_IMPORTANCE_TYPES:\n",
    "        raise ValueError(f\"{importance_type} is not one of the supported importance types.\")\n",
    "    plot_collection(trial,\"feature_importance\",regex=f\"feature_importance/{importance_type}/.*\")"
   ]
  },
  {
   "cell_type": "code",
   "execution_count": 102,
   "metadata": {},
   "outputs": [],
   "source": [
    "def get_feature_importance(trial, importance_type=\"weight\"):\n",
    "    SUPPORTED_IMPORTANCE_TYPES = [\"weight\", \"gain\", \"cover\", \"total_gain\", \"total_cover\"]\n",
    "    if importance_type not in SUPPORTED_IMPORTANCE_TYPES:\n",
    "        raise ValueError(f\"{importance_type} is not one of the supported importance types.\")\n",
    "    return get_collection(trial,\"feature_importance\",regex=f\"feature_importance/{importance_type}/.*\")"
   ]
  },
  {
   "cell_type": "code",
   "execution_count": 103,
   "metadata": {},
   "outputs": [],
   "source": [
    "def get_data_last_step(trial, tname):\n",
    "    \"\"\"\n",
    "    For the given tensor name, walks though all the iterations\n",
    "    for which you have data and fetches the values.\n",
    "    Returns the set of steps and the values.\n",
    "    \"\"\"\n",
    "    vals = trial.tensor(tname).value(trial.last_complete_step)\n",
    "    #print (type(vals))\n",
    "    return float(vals[0])"
   ]
  },
  {
   "cell_type": "code",
   "execution_count": 104,
   "metadata": {},
   "outputs": [],
   "source": [
    "def get_collection(trial, collection_name, regex='.*', figsize=(8, 6)):\n",
    "    \"\"\"\n",
    "    Takes a `trial` and a collection name, and \n",
    "    plots all tensors that match the given regex.\n",
    "    \"\"\"\n",
    "    #fig, ax = plt.subplots(figsize=figsize)\n",
    "    #sns.despine()\n",
    "    df = pd.DataFrame(columns = ['tensore_name','feature_name','feature_importance'])\n",
    "    #df = pd.DataFrame(columns = ['Name', 'Articles', 'Improved'])\n",
    "    tensors = trial.collection(collection_name).tensor_names\n",
    "\n",
    "    matched_tensors = [t for t in tensors if re.match(regex, t)]\n",
    "    \n",
    "    for tensor_name in islice(matched_tensors, MAX_PLOTS):\n",
    "        if re.match(regex, tensor_name):\n",
    "            #print(type(match_tensor_name_with_feature_name(tensor_name)))\n",
    "            #print(tensor_name, get_data_last_step(trial, tensor_name), match_tensor_name_with_feature_name(tensor_name))\n",
    "            #tn, td , tl = tensor_name, get_data_last_step(trial, tensor_name), match_tensor_name_with_feature_name(tensor_name)\n",
    "            #df[\"Name\"] = tensor_name\n",
    "            df = df.append({\n",
    "                            'tensore_name' : tensor_name,\n",
    "                            'feature_name' : match_tensor_name_with_feature_name(tensor_name),\n",
    "                            'feature_importance' : get_data_last_step(trial, tensor_name)\n",
    "                           },\n",
    "                           ignore_index=True\n",
    "                          )\n",
    "            #steps, data = get_data(trial, tensor_name)\n",
    "            #ax.plot(steps, data, label=match_tensor_name_with_feature_name(tensor_name))\n",
    "    return df"
   ]
  },
  {
   "cell_type": "code",
   "execution_count": 105,
   "metadata": {},
   "outputs": [],
   "source": [
    "df_fi = get_feature_importance(trial, \"weight\")"
   ]
  },
  {
   "cell_type": "code",
   "execution_count": 106,
   "metadata": {},
   "outputs": [
    {
     "data": {
      "text/html": [
       "<div>\n",
       "<style scoped>\n",
       "    .dataframe tbody tr th:only-of-type {\n",
       "        vertical-align: middle;\n",
       "    }\n",
       "\n",
       "    .dataframe tbody tr th {\n",
       "        vertical-align: top;\n",
       "    }\n",
       "\n",
       "    .dataframe thead th {\n",
       "        text-align: right;\n",
       "    }\n",
       "</style>\n",
       "<table border=\"1\" class=\"dataframe\">\n",
       "  <thead>\n",
       "    <tr style=\"text-align: right;\">\n",
       "      <th></th>\n",
       "      <th>tensore_name</th>\n",
       "      <th>feature_name</th>\n",
       "      <th>feature_importance</th>\n",
       "    </tr>\n",
       "  </thead>\n",
       "  <tbody>\n",
       "    <tr>\n",
       "      <th>2</th>\n",
       "      <td>feature_importance/weight/f41</td>\n",
       "      <td>self_rpt_hhld_annual_i</td>\n",
       "      <td>0.072014</td>\n",
       "    </tr>\n",
       "    <tr>\n",
       "      <th>12</th>\n",
       "      <td>feature_importance/weight/f36</td>\n",
       "      <td>ficoscore</td>\n",
       "      <td>0.070289</td>\n",
       "    </tr>\n",
       "    <tr>\n",
       "      <th>10</th>\n",
       "      <td>feature_importance/weight/f11</td>\n",
       "      <td>maxhigh_credit_installment_</td>\n",
       "      <td>0.063821</td>\n",
       "    </tr>\n",
       "    <tr>\n",
       "      <th>8</th>\n",
       "      <td>feature_importance/weight/f0</td>\n",
       "      <td>age</td>\n",
       "      <td>0.060802</td>\n",
       "    </tr>\n",
       "    <tr>\n",
       "      <th>5</th>\n",
       "      <td>feature_importance/weight/f1</td>\n",
       "      <td>req_loan_amt</td>\n",
       "      <td>0.034498</td>\n",
       "    </tr>\n",
       "    <tr>\n",
       "      <th>1</th>\n",
       "      <td>feature_importance/weight/f2</td>\n",
       "      <td>self_rpt_mortgage_or_rental</td>\n",
       "      <td>0.032773</td>\n",
       "    </tr>\n",
       "    <tr>\n",
       "      <th>6</th>\n",
       "      <td>feature_importance/weight/f47</td>\n",
       "      <td>ref_code_priority</td>\n",
       "      <td>0.029754</td>\n",
       "    </tr>\n",
       "    <tr>\n",
       "      <th>11</th>\n",
       "      <td>feature_importance/weight/f17</td>\n",
       "      <td>current_bal_personal_loan_in</td>\n",
       "      <td>0.028461</td>\n",
       "    </tr>\n",
       "    <tr>\n",
       "      <th>13</th>\n",
       "      <td>feature_importance/weight/f25</td>\n",
       "      <td>No_of_opened_accts_person</td>\n",
       "      <td>0.027167</td>\n",
       "    </tr>\n",
       "    <tr>\n",
       "      <th>4</th>\n",
       "      <td>feature_importance/weight/f38</td>\n",
       "      <td>No_of_accts_sec_closed</td>\n",
       "      <td>0.024580</td>\n",
       "    </tr>\n",
       "    <tr>\n",
       "      <th>9</th>\n",
       "      <td>feature_importance/weight/f40</td>\n",
       "      <td>maxmonthly_pmt</td>\n",
       "      <td>0.023286</td>\n",
       "    </tr>\n",
       "    <tr>\n",
       "      <th>3</th>\n",
       "      <td>feature_importance/weight/f37</td>\n",
       "      <td>No_of_accts_unsecured_ins</td>\n",
       "      <td>0.022855</td>\n",
       "    </tr>\n",
       "    <tr>\n",
       "      <th>7</th>\n",
       "      <td>feature_importance/weight/f48</td>\n",
       "      <td>utm_medium_priority</td>\n",
       "      <td>0.021130</td>\n",
       "    </tr>\n",
       "    <tr>\n",
       "      <th>14</th>\n",
       "      <td>feature_importance/weight/f45</td>\n",
       "      <td>source_CK_API</td>\n",
       "      <td>0.011212</td>\n",
       "    </tr>\n",
       "    <tr>\n",
       "      <th>0</th>\n",
       "      <td>feature_importance/weight/f42</td>\n",
       "      <td>borrower_type_FB</td>\n",
       "      <td>0.008624</td>\n",
       "    </tr>\n",
       "  </tbody>\n",
       "</table>\n",
       "</div>"
      ],
      "text/plain": [
       "                     tensore_name                  feature_name  \\\n",
       "2   feature_importance/weight/f41        self_rpt_hhld_annual_i   \n",
       "12  feature_importance/weight/f36                     ficoscore   \n",
       "10  feature_importance/weight/f11   maxhigh_credit_installment_   \n",
       "8    feature_importance/weight/f0                           age   \n",
       "5    feature_importance/weight/f1                  req_loan_amt   \n",
       "1    feature_importance/weight/f2   self_rpt_mortgage_or_rental   \n",
       "6   feature_importance/weight/f47             ref_code_priority   \n",
       "11  feature_importance/weight/f17  current_bal_personal_loan_in   \n",
       "13  feature_importance/weight/f25     No_of_opened_accts_person   \n",
       "4   feature_importance/weight/f38        No_of_accts_sec_closed   \n",
       "9   feature_importance/weight/f40                maxmonthly_pmt   \n",
       "3   feature_importance/weight/f37     No_of_accts_unsecured_ins   \n",
       "7   feature_importance/weight/f48           utm_medium_priority   \n",
       "14  feature_importance/weight/f45                 source_CK_API   \n",
       "0   feature_importance/weight/f42              borrower_type_FB   \n",
       "\n",
       "    feature_importance  \n",
       "2             0.072014  \n",
       "12            0.070289  \n",
       "10            0.063821  \n",
       "8             0.060802  \n",
       "5             0.034498  \n",
       "1             0.032773  \n",
       "6             0.029754  \n",
       "11            0.028461  \n",
       "13            0.027167  \n",
       "4             0.024580  \n",
       "9             0.023286  \n",
       "3             0.022855  \n",
       "7             0.021130  \n",
       "14            0.011212  \n",
       "0             0.008624  "
      ]
     },
     "execution_count": 106,
     "metadata": {},
     "output_type": "execute_result"
    }
   ],
   "source": [
    "df_fi.sort_values(\"feature_importance\",ascending=False)\n"
   ]
  },
  {
   "cell_type": "code",
   "execution_count": 107,
   "metadata": {},
   "outputs": [
    {
     "name": "stdout",
     "output_type": "stream",
     "text": [
      "['validation-auc', 'train-auc']\n",
      "[2021-03-29 17:54:50.615 ip-172-16-50-54:1936 INFO trial.py:198] Training has ended, will refresh one final time in 1 sec.\n",
      "[2021-03-29 17:54:51.690 ip-172-16-50-54:1936 INFO trial.py:210] Loaded all steps\n"
     ]
    },
    {
     "data": {
      "image/png": "[encoded data removed]",
      "text/plain": [
       "<Figure size 576x432 with 1 Axes>"
      ]
     },
     "metadata": {
      "needs_background": "light"
     },
     "output_type": "display_data"
    }
   ],
   "source": [
    "plot_collection(trial, \"metrics\")"
   ]
  },
  {
   "cell_type": "code",
   "execution_count": 108,
   "metadata": {},
   "outputs": [
    {
     "name": "stdout",
     "output_type": "stream",
     "text": [
      "['feature_importance/weight/f42', 'feature_importance/weight/f2', 'feature_importance/weight/f41', 'feature_importance/weight/f37', 'feature_importance/weight/f38', 'feature_importance/weight/f1', 'feature_importance/weight/f47', 'feature_importance/weight/f48', 'feature_importance/weight/f0', 'feature_importance/weight/f40', 'feature_importance/weight/f11', 'feature_importance/weight/f17', 'feature_importance/weight/f36', 'feature_importance/weight/f25', 'feature_importance/weight/f45']\n"
     ]
    },
    {
     "data": {
      "image/png": "[encoded data removed]",
      "text/plain": [
       "<Figure size 576x432 with 1 Axes>"
      ]
     },
     "metadata": {
      "needs_background": "light"
     },
     "output_type": "display_data"
    }
   ],
   "source": [
    "plot_feature_importance(trial)"
   ]
  },
  {
   "cell_type": "code",
   "execution_count": 109,
   "metadata": {},
   "outputs": [
    {
     "data": {
      "image/png": "[encoded data removed]",
      "text/plain": [
       "<Figure size 576x684 with 1 Axes>"
      ]
     },
     "metadata": {
      "needs_background": "light"
     },
     "output_type": "display_data"
    }
   ],
   "source": [
    "import shap\n",
    "shap_values = trial.tensor(\"full_shap/f0\").value(trial.last_complete_step)\n",
    "shap_no_base = shap_values[:, :-1]\n",
    "shap_base_value = shap_values[0, -1]\n",
    "shap.summary_plot(shap_no_base, plot_type='bar', feature_names=feature_names)"
   ]
  },
  {
   "cell_type": "code",
   "execution_count": 1,
   "metadata": {},
   "outputs": [
    {
     "ename": "NameError",
     "evalue": "name 'xgb' is not defined",
     "output_type": "error",
     "traceback": [
      "\u001b[0;31m---------------------------------------------------------------------------\u001b[0m",
      "\u001b[0;31mNameError\u001b[0m                                 Traceback (most recent call last)",
      "\u001b[0;32m<ipython-input-1-ecdb2428c005>\u001b[0m in \u001b[0;36m<module>\u001b[0;34m\u001b[0m\n\u001b[1;32m      1\u001b[0m \u001b[0;32mimport\u001b[0m \u001b[0msagemaker\u001b[0m\u001b[0;34m\u001b[0m\u001b[0;34m\u001b[0m\u001b[0m\n\u001b[1;32m      2\u001b[0m \u001b[0;32mfrom\u001b[0m \u001b[0msagemaker\u001b[0m\u001b[0;34m.\u001b[0m\u001b[0mserializers\u001b[0m \u001b[0;32mimport\u001b[0m \u001b[0mCSVSerializer\u001b[0m\u001b[0;34m\u001b[0m\u001b[0;34m\u001b[0m\u001b[0m\n\u001b[0;32m----> 3\u001b[0;31m xgb_predictor=xgb.deploy(\n\u001b[0m\u001b[1;32m      4\u001b[0m     \u001b[0minitial_instance_count\u001b[0m\u001b[0;34m=\u001b[0m\u001b[0;36m1\u001b[0m\u001b[0;34m,\u001b[0m\u001b[0;34m\u001b[0m\u001b[0;34m\u001b[0m\u001b[0m\n\u001b[1;32m      5\u001b[0m     \u001b[0minstance_type\u001b[0m\u001b[0;34m=\u001b[0m\u001b[0;34m'ml.t2.medium'\u001b[0m\u001b[0;34m,\u001b[0m\u001b[0;34m\u001b[0m\u001b[0;34m\u001b[0m\u001b[0m\n",
      "\u001b[0;31mNameError\u001b[0m: name 'xgb' is not defined"
     ]
    }
   ],
   "source": [
    "import sagemaker\n",
    "from sagemaker.serializers import CSVSerializer\n",
    "xgb_predictor=xgb.deploy(\n",
    "    initial_instance_count=1,\n",
    "    instance_type='ml.t2.medium',\n",
    "    serializer=CSVSerializer()\n",
    ")"
   ]
  },
  {
   "cell_type": "code",
   "execution_count": 111,
   "metadata": {},
   "outputs": [],
   "source": [
    "import numpy as np\n",
    "def predict(data, model, rows=500):\n",
    "    split_array = np.array_split(data, int(data.shape[0] / float(rows) + 1))\n",
    "    predictions = ''\n",
    "    for array in split_array:\n",
    "        predictions = ','.join([predictions, model.predict(array).decode('utf-8')])\n",
    "\n",
    "    return np.fromstring(predictions[1:], sep=',')\n",
    "\n",
    "## Generate predictions on the test set for the difference models\n",
    "\n",
    "\n",
    "\n"
   ]
  },
  {
   "cell_type": "code",
   "execution_count": 112,
   "metadata": {
    "scrolled": true
   },
   "outputs": [
    {
     "data": {
      "text/html": [
       "<div>\n",
       "<style scoped>\n",
       "    .dataframe tbody tr th:only-of-type {\n",
       "        vertical-align: middle;\n",
       "    }\n",
       "\n",
       "    .dataframe tbody tr th {\n",
       "        vertical-align: top;\n",
       "    }\n",
       "\n",
       "    .dataframe thead th {\n",
       "        text-align: right;\n",
       "    }\n",
       "</style>\n",
       "<table border=\"1\" class=\"dataframe\">\n",
       "  <thead>\n",
       "    <tr style=\"text-align: right;\">\n",
       "      <th></th>\n",
       "      <th>age</th>\n",
       "      <th>req_loan_amt</th>\n",
       "      <th>self_rpt_mortgage_or_rental</th>\n",
       "      <th>self_rpt_years_at_current_a</th>\n",
       "      <th>distancetobranch</th>\n",
       "      <th>No_of_open_home_equity_accou</th>\n",
       "      <th>mortgage_accts_opened_within</th>\n",
       "      <th>tot_joint_mortgage_pmt</th>\n",
       "      <th>mth_since_most_rec_acct_o0</th>\n",
       "      <th>mth_since_most_rec_acct_18</th>\n",
       "      <th>...</th>\n",
       "      <th>maxmonthly_pmt</th>\n",
       "      <th>self_rpt_hhld_annual_i</th>\n",
       "      <th>borrower_type_FB</th>\n",
       "      <th>SR_empstatus_Hourly</th>\n",
       "      <th>SR_Hownership_Home</th>\n",
       "      <th>source_CK_API</th>\n",
       "      <th>contact_state_priority</th>\n",
       "      <th>ref_code_priority</th>\n",
       "      <th>utm_medium_priority</th>\n",
       "      <th>distancetobranch_Z</th>\n",
       "    </tr>\n",
       "  </thead>\n",
       "  <tbody>\n",
       "    <tr>\n",
       "      <th>219796</th>\n",
       "      <td>30</td>\n",
       "      <td>6500</td>\n",
       "      <td>0.0</td>\n",
       "      <td>0.0</td>\n",
       "      <td>0.0</td>\n",
       "      <td>0.0</td>\n",
       "      <td>0.0</td>\n",
       "      <td>0.0</td>\n",
       "      <td>6.0</td>\n",
       "      <td>14.0</td>\n",
       "      <td>...</td>\n",
       "      <td>106.07</td>\n",
       "      <td>50000</td>\n",
       "      <td>0</td>\n",
       "      <td>1</td>\n",
       "      <td>0</td>\n",
       "      <td>1</td>\n",
       "      <td>1</td>\n",
       "      <td>0</td>\n",
       "      <td>1</td>\n",
       "      <td>1</td>\n",
       "    </tr>\n",
       "    <tr>\n",
       "      <th>248455</th>\n",
       "      <td>35</td>\n",
       "      <td>2500</td>\n",
       "      <td>0.0</td>\n",
       "      <td>0.0</td>\n",
       "      <td>0.0</td>\n",
       "      <td>0.0</td>\n",
       "      <td>1.0</td>\n",
       "      <td>948.0</td>\n",
       "      <td>9.0</td>\n",
       "      <td>9.0</td>\n",
       "      <td>...</td>\n",
       "      <td>0.00</td>\n",
       "      <td>48000</td>\n",
       "      <td>0</td>\n",
       "      <td>0</td>\n",
       "      <td>1</td>\n",
       "      <td>0</td>\n",
       "      <td>1</td>\n",
       "      <td>0</td>\n",
       "      <td>0</td>\n",
       "      <td>1</td>\n",
       "    </tr>\n",
       "    <tr>\n",
       "      <th>9670</th>\n",
       "      <td>56</td>\n",
       "      <td>1500</td>\n",
       "      <td>1950.0</td>\n",
       "      <td>0.0</td>\n",
       "      <td>9.0</td>\n",
       "      <td>0.0</td>\n",
       "      <td>0.0</td>\n",
       "      <td>0.0</td>\n",
       "      <td>8.0</td>\n",
       "      <td>8.0</td>\n",
       "      <td>...</td>\n",
       "      <td>0.00</td>\n",
       "      <td>117000</td>\n",
       "      <td>0</td>\n",
       "      <td>0</td>\n",
       "      <td>1</td>\n",
       "      <td>0</td>\n",
       "      <td>2</td>\n",
       "      <td>1</td>\n",
       "      <td>2</td>\n",
       "      <td>0</td>\n",
       "    </tr>\n",
       "    <tr>\n",
       "      <th>119497</th>\n",
       "      <td>65</td>\n",
       "      <td>1500</td>\n",
       "      <td>0.0</td>\n",
       "      <td>0.0</td>\n",
       "      <td>0.0</td>\n",
       "      <td>0.0</td>\n",
       "      <td>0.0</td>\n",
       "      <td>0.0</td>\n",
       "      <td>6.0</td>\n",
       "      <td>7.0</td>\n",
       "      <td>...</td>\n",
       "      <td>0.00</td>\n",
       "      <td>39000</td>\n",
       "      <td>0</td>\n",
       "      <td>0</td>\n",
       "      <td>1</td>\n",
       "      <td>0</td>\n",
       "      <td>0</td>\n",
       "      <td>0</td>\n",
       "      <td>0</td>\n",
       "      <td>1</td>\n",
       "    </tr>\n",
       "    <tr>\n",
       "      <th>119424</th>\n",
       "      <td>36</td>\n",
       "      <td>1500</td>\n",
       "      <td>0.0</td>\n",
       "      <td>0.0</td>\n",
       "      <td>0.0</td>\n",
       "      <td>0.0</td>\n",
       "      <td>0.0</td>\n",
       "      <td>0.0</td>\n",
       "      <td>4.0</td>\n",
       "      <td>4.0</td>\n",
       "      <td>...</td>\n",
       "      <td>0.00</td>\n",
       "      <td>50000</td>\n",
       "      <td>0</td>\n",
       "      <td>1</td>\n",
       "      <td>0</td>\n",
       "      <td>1</td>\n",
       "      <td>1</td>\n",
       "      <td>2</td>\n",
       "      <td>1</td>\n",
       "      <td>1</td>\n",
       "    </tr>\n",
       "  </tbody>\n",
       "</table>\n",
       "<p>5 rows × 50 columns</p>\n",
       "</div>"
      ],
      "text/plain": [
       "        age  req_loan_amt  self_rpt_mortgage_or_rental  \\\n",
       "219796   30          6500                          0.0   \n",
       "248455   35          2500                          0.0   \n",
       "9670     56          1500                       1950.0   \n",
       "119497   65          1500                          0.0   \n",
       "119424   36          1500                          0.0   \n",
       "\n",
       "        self_rpt_years_at_current_a  distancetobranch  \\\n",
       "219796                          0.0               0.0   \n",
       "248455                          0.0               0.0   \n",
       "9670                            0.0               9.0   \n",
       "119497                          0.0               0.0   \n",
       "119424                          0.0               0.0   \n",
       "\n",
       "        No_of_open_home_equity_accou  mortgage_accts_opened_within  \\\n",
       "219796                           0.0                           0.0   \n",
       "248455                           0.0                           1.0   \n",
       "9670                             0.0                           0.0   \n",
       "119497                           0.0                           0.0   \n",
       "119424                           0.0                           0.0   \n",
       "\n",
       "        tot_joint_mortgage_pmt  mth_since_most_rec_acct_o0  \\\n",
       "219796                     0.0                         6.0   \n",
       "248455                   948.0                         9.0   \n",
       "9670                       0.0                         8.0   \n",
       "119497                     0.0                         6.0   \n",
       "119424                     0.0                         4.0   \n",
       "\n",
       "        mth_since_most_rec_acct_18  ...  maxmonthly_pmt  \\\n",
       "219796                        14.0  ...          106.07   \n",
       "248455                         9.0  ...            0.00   \n",
       "9670                           8.0  ...            0.00   \n",
       "119497                         7.0  ...            0.00   \n",
       "119424                         4.0  ...            0.00   \n",
       "\n",
       "        self_rpt_hhld_annual_i  borrower_type_FB  SR_empstatus_Hourly  \\\n",
       "219796                   50000                 0                    1   \n",
       "248455                   48000                 0                    0   \n",
       "9670                    117000                 0                    0   \n",
       "119497                   39000                 0                    0   \n",
       "119424                   50000                 0                    1   \n",
       "\n",
       "        SR_Hownership_Home  source_CK_API  contact_state_priority  \\\n",
       "219796                   0              1                       1   \n",
       "248455                   1              0                       1   \n",
       "9670                     1              0                       2   \n",
       "119497                   1              0                       0   \n",
       "119424                   0              1                       1   \n",
       "\n",
       "        ref_code_priority  utm_medium_priority  distancetobranch_Z  \n",
       "219796                  0                    1                   1  \n",
       "248455                  0                    0                   1  \n",
       "9670                    1                    2                   0  \n",
       "119497                  0                    0                   1  \n",
       "119424                  2                    1                   1  \n",
       "\n",
       "[5 rows x 50 columns]"
      ]
     },
     "execution_count": 112,
     "metadata": {},
     "output_type": "execute_result"
    }
   ],
   "source": [
    "X_test.head()"
   ]
  },
  {
   "cell_type": "code",
   "execution_count": 113,
   "metadata": {},
   "outputs": [
    {
     "data": {
      "image/png": "[encoded data removed]",
      "text/plain": [
       "<Figure size 432x288 with 1 Axes>"
      ]
     },
     "metadata": {
      "needs_background": "light"
     },
     "output_type": "display_data"
    }
   ],
   "source": [
    "import matplotlib.pyplot as plt\n",
    "\n",
    "\n",
    "predictions = predict(X_test.to_numpy(), xgb_predictor)\n",
    "plt.hist(predictions)\n",
    "plt.show()\n"
   ]
  },
  {
   "cell_type": "code",
   "execution_count": 114,
   "metadata": {},
   "outputs": [
    {
     "name": "stdout",
     "output_type": "stream",
     "text": [
      "AUC is 0.7754\n"
     ]
    },
    {
     "data": {
      "image/png": "[encoded data removed]",
      "text/plain": [
       "<Figure size 432x288 with 1 Axes>"
      ]
     },
     "metadata": {
      "needs_background": "light"
     },
     "output_type": "display_data"
    }
   ],
   "source": [
    "y_pred=predictions\n",
    "\n",
    "from sklearn import metrics\n",
    "\n",
    "auc = round(roc_auc_score(y_test, y_pred), 4)\n",
    "print('AUC is ' + repr(auc))\n",
    "\n",
    "fpr, tpr, _ = metrics.roc_curve(y_test, y_pred)\n",
    "\n",
    "plt.title('ROC Curve')\n",
    "plt.plot(fpr, tpr, 'b',\n",
    "label='AUC = %0.2f'% auc)\n",
    "plt.legend(loc='lower right')\n",
    "plt.plot([0,1],[0,1],'r--')\n",
    "plt.xlim([-0.1,1.1])\n",
    "plt.ylim([-0.1,1.1])\n",
    "plt.ylabel('True Positive Rate')\n",
    "plt.xlabel('False Positive Rate')\n",
    "plt.show()\n",
    "\n",
    "\n",
    "\n"
   ]
  },
  {
   "cell_type": "code",
   "execution_count": 115,
   "metadata": {},
   "outputs": [],
   "source": [
    "import sys\n",
    "sys.path.insert(0, '/home/ec2-user/SageMaker/mymodule/')\n",
    "\n",
    "from common_functions import psi\n",
    "from common_functions import ks"
   ]
  },
  {
   "cell_type": "code",
   "execution_count": 116,
   "metadata": {},
   "outputs": [
    {
     "name": "stdout",
     "output_type": "stream",
     "text": [
      "      min_score  max_score  events  nonevents  total event_rate nonevent_rate  \\\n",
      "0      0.211699   0.775667    2194       5332   7526     29.15%        70.85%   \n",
      "1      0.139807   0.211697    1319       6206   7525     17.53%        82.47%   \n",
      "2     0.0986427   0.139794     937       6588   7525     12.45%        87.55%   \n",
      "3     0.0718881  0.0986425     680       6845   7525      9.04%        90.96%   \n",
      "4      0.053397  0.0718879     497       7028   7525      6.60%        93.40%   \n",
      "5     0.0392848  0.0533921     399       7126   7525      5.30%        94.70%   \n",
      "6     0.0285423  0.0392847     254       7271   7525      3.38%        96.62%   \n",
      "7     0.0195565  0.0285422     183       7342   7525      2.43%        97.57%   \n",
      "8     0.0117055  0.0195564     107       7417   7524      1.42%        98.58%   \n",
      "9   0.000899134  0.0117051      61       7466   7527      0.81%        99.19%   \n",
      "10                            6631      68621  75252      8.81%        91.19%   \n",
      "\n",
      "   % events % nonevents % cum_events % cum_nonevents    KS  \n",
      "0    33.09%       7.77%       33.09%           7.77%  25.3  \n",
      "1    19.89%       9.04%       52.98%          16.81%  36.2  \n",
      "2    14.13%       9.60%       67.11%          26.41%  40.7  \n",
      "3    10.25%       9.98%       77.36%          36.39%  41.0  \n",
      "4     7.50%      10.24%       84.86%          46.63%  38.2  \n",
      "5     6.02%      10.38%       90.88%          57.02%  33.9  \n",
      "6     3.83%      10.60%       94.71%          67.61%  27.1  \n",
      "7     2.76%      10.70%       97.47%          78.31%  19.2  \n",
      "8     1.61%      10.81%       99.08%          89.12%  10.0  \n",
      "9     0.92%      10.88%      100.00%         100.00%   0.0  \n",
      "10  100.00%     100.00%                               41.0  \n",
      "\u001b[31mKS is 41.0% at decile 3\n"
     ]
    }
   ],
   "source": [
    "import pandas as pd\n",
    "\n",
    "#merge only the test dataset\n",
    "y_test_hat=predictions\n",
    "\n",
    "#convert ndarray to a dataframe, so that it can merge with true y in the merge statement\n",
    "\n",
    "y_test_hat_df=pd.DataFrame(data=y_test_hat, columns=['Y_hats'], index=X_test.index.copy())\n",
    "\n",
    "df_out=pd.merge(y_test, y_test_hat_df, how='left', left_index=True, right_index=True)\n",
    "ks_test=ks(data=df_out, target='fund_flag', prob='Y_hats')"
   ]
  },
  {
   "cell_type": "code",
   "execution_count": 117,
   "metadata": {},
   "outputs": [],
   "source": [
    "df_val = pd.read_csv('{}/ppf_val3.csv'.format(s3_surce_path))"
   ]
  },
  {
   "cell_type": "code",
   "execution_count": 118,
   "metadata": {},
   "outputs": [],
   "source": [
    "impute_ppf(df_val, ptable)\n",
    "df_val=df_val.fillna(0)\n"
   ]
  },
  {
   "cell_type": "code",
   "execution_count": 119,
   "metadata": {},
   "outputs": [],
   "source": [
    "droplist = ['fund_flag','FPD_flag','ever60by4_flag','SR_OthResi']"
   ]
  },
  {
   "cell_type": "code",
   "execution_count": 120,
   "metadata": {},
   "outputs": [],
   "source": [
    "X_val = df_val.loc[: , ~df_val.columns.isin(droplist)]\n",
    "y_val = df_val.loc[: ,'fund_flag']\n",
    "y_val_FPD=df_val.loc[:,'FPD_flag']\n",
    "y_val_ever60by4=df_val.loc[:,'ever60by4_flag']\n"
   ]
  },
  {
   "cell_type": "code",
   "execution_count": 121,
   "metadata": {},
   "outputs": [
    {
     "data": {
      "image/png": "[encoded data removed]",
      "text/plain": [
       "<Figure size 432x288 with 1 Axes>"
      ]
     },
     "metadata": {
      "needs_background": "light"
     },
     "output_type": "display_data"
    }
   ],
   "source": [
    "predictions = predict(X_val.to_numpy(), xgb_predictor)\n",
    "plt.hist(predictions)\n",
    "plt.show()"
   ]
  },
  {
   "cell_type": "code",
   "execution_count": 122,
   "metadata": {},
   "outputs": [
    {
     "name": "stdout",
     "output_type": "stream",
     "text": [
      "      min_score  max_score  events  nonevents     total event_rate  \\\n",
      "0      0.208719   0.843422  3143.0     7623.0   10766.0     29.19%   \n",
      "1      0.134343   0.208707  1862.0     8903.0   10765.0     17.30%   \n",
      "2     0.0945728   0.134342  1295.0     9470.0   10765.0     12.03%   \n",
      "3     0.0693558  0.0945714   999.0     9766.0   10765.0      9.28%   \n",
      "4     0.0514383  0.0693547   716.0    10049.0   10765.0      6.65%   \n",
      "5     0.0379056  0.0514383   491.0    10275.0   10766.0      4.56%   \n",
      "6     0.0274226  0.0379042   346.0    10419.0   10765.0      3.21%   \n",
      "7     0.0188511  0.0274217   273.0    10492.0   10765.0      2.54%   \n",
      "8     0.0112802  0.0188502   160.0    10605.0   10765.0      1.49%   \n",
      "9   0.000238926  0.0112797   104.0    10662.0   10766.0      0.97%   \n",
      "10                          9389.0    98264.0  107653.0      8.72%   \n",
      "\n",
      "   nonevent_rate % events % nonevents % cum_events % cum_nonevents    KS  \n",
      "0         70.81%   33.48%       7.76%       33.48%           7.76%  25.7  \n",
      "1         82.70%   19.83%       9.06%       53.31%          16.82%  36.5  \n",
      "2         87.97%   13.79%       9.64%       67.10%          26.46%  40.6  \n",
      "3         90.72%   10.64%       9.94%       77.74%          36.39%  41.3  \n",
      "4         93.35%    7.63%      10.23%       85.37%          46.62%  38.7  \n",
      "5         95.44%    5.23%      10.46%       90.60%          57.08%  33.5  \n",
      "6         96.79%    3.69%      10.60%       94.28%          67.68%  26.6  \n",
      "7         97.46%    2.91%      10.68%       97.19%          78.36%  18.8  \n",
      "8         98.51%    1.70%      10.79%       98.89%          89.15%   9.7  \n",
      "9         99.03%    1.11%      10.85%      100.00%         100.00%   0.0  \n",
      "10        91.28%  100.00%     100.00%                               41.3  \n",
      "\u001b[31mKS is 41.3% at decile 3\n"
     ]
    }
   ],
   "source": [
    "y_val_hat=predictions\n",
    "\n",
    "#convert ndarray to a dataframe, so that it can merge with true y in the merge statement\n",
    "\n",
    "y_val_hat_df=pd.DataFrame(data=y_val_hat, columns=['Y_hats'], index=X_val.index.copy())\n",
    "\n",
    "df_out=pd.merge(y_val, y_val_hat_df, how='left', left_index=True, right_index=True)\n",
    "ks_val=ks(data=df_out, target='fund_flag', prob='Y_hats')"
   ]
  },
  {
   "cell_type": "code",
   "execution_count": 123,
   "metadata": {},
   "outputs": [
    {
     "name": "stdout",
     "output_type": "stream",
     "text": [
      "     min_score  max_score  events  nonevents   total event_rate nonevent_rate  \\\n",
      "0     0.371472   0.843422     4.0      935.0   939.0      0.43%        99.57%   \n",
      "1     0.283008   0.371411     4.0      935.0   939.0      0.43%        99.57%   \n",
      "2     0.224408   0.282977     5.0      934.0   939.0      0.53%        99.47%   \n",
      "3     0.182707   0.224397     8.0      931.0   939.0      0.85%        99.15%   \n",
      "4     0.145393    0.18266     9.0      929.0   938.0      0.96%        99.04%   \n",
      "5     0.113894   0.145377    15.0      924.0   939.0      1.60%        98.40%   \n",
      "6    0.0873947   0.113855    13.0      926.0   939.0      1.38%        98.62%   \n",
      "7    0.0639974  0.0873914    16.0      923.0   939.0      1.70%        98.30%   \n",
      "8    0.0391574  0.0639396    19.0      920.0   939.0      2.02%        97.98%   \n",
      "9   0.00054979  0.0390963    18.0      921.0   939.0      1.92%        98.08%   \n",
      "10                          111.0     9278.0  9389.0      1.18%        98.82%   \n",
      "\n",
      "   % events % nonevents % cum_events % cum_nonevents    KS  \n",
      "0     3.60%      10.08%        3.60%          10.08%   6.5  \n",
      "1     3.60%      10.08%        7.21%          20.16%  12.9  \n",
      "2     4.50%      10.07%       11.71%          30.22%  18.5  \n",
      "3     7.21%      10.03%       18.92%          40.26%  21.3  \n",
      "4     8.11%      10.01%       27.03%          50.27%  23.2  \n",
      "5    13.51%       9.96%       40.54%          60.23%  19.7  \n",
      "6    11.71%       9.98%       52.25%          70.21%  18.0  \n",
      "7    14.41%       9.95%       66.67%          80.16%  13.5  \n",
      "8    17.12%       9.92%       83.78%          90.07%   6.3  \n",
      "9    16.22%       9.93%      100.00%         100.00%   0.0  \n",
      "10  100.00%     100.00%                               23.2  \n",
      "\u001b[31mKS is 23.200000000000003% at decile 4\n"
     ]
    }
   ],
   "source": [
    "df_out_FPD=pd.merge(y_val_FPD, df_out, how='left', left_index=True, right_index=True)\n",
    "df_out_FPD=df_out_FPD[df_out_FPD['FPD_flag'] !=2]\n",
    "ks_val_FPD=ks(data=df_out_FPD, target='FPD_flag', prob='Y_hats')"
   ]
  },
  {
   "cell_type": "code",
   "execution_count": 124,
   "metadata": {},
   "outputs": [
    {
     "name": "stdout",
     "output_type": "stream",
     "text": [
      "     min_score  max_score  events  nonevents   total event_rate nonevent_rate  \\\n",
      "0     0.371691   0.843422    10.0      905.0   915.0      1.09%        98.91%   \n",
      "1     0.283709   0.371683    12.0      903.0   915.0      1.31%        98.69%   \n",
      "2     0.225262   0.283676    15.0      899.0   914.0      1.64%        98.36%   \n",
      "3     0.183424   0.225146    16.0      899.0   915.0      1.75%        98.25%   \n",
      "4     0.146064   0.183298    25.0      889.0   914.0      2.74%        97.26%   \n",
      "5     0.114397   0.146024    30.0      885.0   915.0      3.28%        96.72%   \n",
      "6    0.0878669   0.114338    33.0      882.0   915.0      3.61%        96.39%   \n",
      "7       0.0641   0.087849    30.0      884.0   914.0      3.28%        96.72%   \n",
      "8    0.0392317   0.064057    36.0      879.0   915.0      3.93%        96.07%   \n",
      "9   0.00054979  0.0391574    44.0      871.0   915.0      4.81%        95.19%   \n",
      "10                          251.0     8896.0  9147.0      2.74%        97.26%   \n",
      "\n",
      "   % events % nonevents % cum_events % cum_nonevents    KS  \n",
      "0     3.98%      10.17%        3.98%          10.17%   6.2  \n",
      "1     4.78%      10.15%        8.76%          20.32%  11.6  \n",
      "2     5.98%      10.11%       14.74%          30.43%  15.7  \n",
      "3     6.37%      10.11%       21.12%          40.54%  19.4  \n",
      "4     9.96%       9.99%       31.08%          50.53%  19.5  \n",
      "5    11.95%       9.95%       43.03%          60.48%  17.4  \n",
      "6    13.15%       9.91%       56.18%          70.39%  14.2  \n",
      "7    11.95%       9.94%       68.13%          80.33%  12.2  \n",
      "8    14.34%       9.88%       82.47%          90.21%   7.7  \n",
      "9    17.53%       9.79%      100.00%         100.00%   0.0  \n",
      "10  100.00%     100.00%                               19.5  \n",
      "\u001b[31mKS is 19.5% at decile 4\n"
     ]
    }
   ],
   "source": [
    "df_out_ever60by4=pd.merge(y_val_ever60by4, df_out, how='left', left_index=True, right_index=True)\n",
    "df_out_ever60by4=df_out_ever60by4[df_out_ever60by4['ever60by4_flag'] !=2]\n",
    "ks_val_ever60by4=ks(data=df_out_ever60by4, target='ever60by4_flag', prob='Y_hats')"
   ]
  },
  {
   "cell_type": "code",
   "execution_count": 125,
   "metadata": {},
   "outputs": [],
   "source": [
    "df_oot = pd.read_csv('{}/ppf_oot3.csv'.format(s3_surce_path))"
   ]
  },
  {
   "cell_type": "code",
   "execution_count": 126,
   "metadata": {},
   "outputs": [],
   "source": [
    "impute_ppf(df_oot, ptable)\n",
    "df_oot=df_oot.fillna(0)"
   ]
  },
  {
   "cell_type": "code",
   "execution_count": 127,
   "metadata": {},
   "outputs": [],
   "source": [
    "X_oot = df_oot.loc[: , ~df_val.columns.isin(droplist)]\n",
    "y_oot = df_oot.loc[: ,'fund_flag']\n",
    "y_oot_FPD=df_oot.loc[:,'FPD_flag']\n",
    "y_oot_ever60by4=df_oot.loc[:,'ever60by4_flag']\n"
   ]
  },
  {
   "cell_type": "code",
   "execution_count": 128,
   "metadata": {},
   "outputs": [
    {
     "data": {
      "image/png": "[encoded data removed]",
      "text/plain": [
       "<Figure size 432x288 with 1 Axes>"
      ]
     },
     "metadata": {
      "needs_background": "light"
     },
     "output_type": "display_data"
    }
   ],
   "source": [
    "predictions = predict(X_oot.to_numpy(), xgb_predictor)\n",
    "plt.hist(predictions)\n",
    "plt.show()\n"
   ]
  },
  {
   "cell_type": "code",
   "execution_count": 129,
   "metadata": {},
   "outputs": [
    {
     "name": "stdout",
     "output_type": "stream",
     "text": [
      "      min_score  max_score  events  nonevents     total event_rate  \\\n",
      "0       0.18847   0.762183  3151.0     8767.0   11918.0     26.44%   \n",
      "1      0.124364   0.188468  1857.0    10060.0   11917.0     15.58%   \n",
      "2     0.0899274   0.124363  1340.0    10577.0   11917.0     11.24%   \n",
      "3     0.0672882  0.0899242  1019.0    10898.0   11917.0      8.55%   \n",
      "4     0.0510562  0.0672882   791.0    11126.0   11917.0      6.64%   \n",
      "5     0.0389328  0.0510558   575.0    11342.0   11917.0      4.83%   \n",
      "6     0.0291503  0.0389321   453.0    11464.0   11917.0      3.80%   \n",
      "7     0.0208143  0.0291484   300.0    11617.0   11917.0      2.52%   \n",
      "8     0.0131221  0.0208141   222.0    11695.0   11917.0      1.86%   \n",
      "9   0.000190172  0.0131219   137.0    11781.0   11918.0      1.15%   \n",
      "10                          9845.0   109327.0  119172.0      8.26%   \n",
      "\n",
      "   nonevent_rate % events % nonevents % cum_events % cum_nonevents    KS  \n",
      "0         73.56%   32.01%       8.02%       32.01%           8.02%  24.0  \n",
      "1         84.42%   18.86%       9.20%       50.87%          17.22%  33.6  \n",
      "2         88.76%   13.61%       9.67%       64.48%          26.90%  37.6  \n",
      "3         91.45%   10.35%       9.97%       74.83%          36.86%  38.0  \n",
      "4         93.36%    8.03%      10.18%       82.86%          47.04%  35.8  \n",
      "5         95.17%    5.84%      10.37%       88.70%          57.41%  31.3  \n",
      "6         96.20%    4.60%      10.49%       93.31%          67.90%  25.4  \n",
      "7         97.48%    3.05%      10.63%       96.35%          78.53%  17.8  \n",
      "8         98.14%    2.25%      10.70%       98.61%          89.22%   9.4  \n",
      "9         98.85%    1.39%      10.78%      100.00%         100.00%   0.0  \n",
      "10        91.74%  100.00%     100.00%                               38.0  \n",
      "\u001b[31mKS is 38.0% at decile 3\n"
     ]
    }
   ],
   "source": [
    "y_oot_hat=predictions\n",
    "\n",
    "#convert ndarray to a dataframe, so that it can merge with true y in the merge statement\n",
    "\n",
    "y_oot_hat_df=pd.DataFrame(data=y_oot_hat, columns=['Y_hats'], index=X_oot.index.copy())\n",
    "\n",
    "df_out=pd.merge(y_oot, y_oot_hat_df, how='left', left_index=True, right_index=True)\n",
    "ks_oot=ks(data=df_out, target='fund_flag', prob='Y_hats')\n"
   ]
  },
  {
   "cell_type": "code",
   "execution_count": 130,
   "metadata": {},
   "outputs": [
    {
     "name": "stdout",
     "output_type": "stream",
     "text": [
      "      min_score  max_score  events  nonevents   total event_rate  \\\n",
      "0      0.337076   0.762183     3.0      980.0   983.0      0.31%   \n",
      "1      0.249249   0.336953     9.0      973.0   982.0      0.92%   \n",
      "2      0.196322   0.249198     2.0      981.0   983.0      0.20%   \n",
      "3      0.159247   0.196322     1.0      981.0   982.0      0.10%   \n",
      "4       0.12714   0.159219    11.0      972.0   983.0      1.12%   \n",
      "5      0.101193      0.127     8.0      974.0   982.0      0.81%   \n",
      "6     0.0776873   0.101181     8.0      975.0   983.0      0.81%   \n",
      "7      0.057229  0.0776798    16.0      966.0   982.0      1.63%   \n",
      "8     0.0363117  0.0572042    19.0      964.0   983.0      1.93%   \n",
      "9   0.000505634  0.0362699    14.0      969.0   983.0      1.42%   \n",
      "10                            91.0     9735.0  9826.0      0.93%   \n",
      "\n",
      "   nonevent_rate % events % nonevents % cum_events % cum_nonevents    KS  \n",
      "0         99.69%    3.30%      10.07%        3.30%          10.07%   6.8  \n",
      "1         99.08%    9.89%       9.99%       13.19%          20.06%   6.9  \n",
      "2         99.80%    2.20%      10.08%       15.38%          30.14%  14.8  \n",
      "3         99.90%    1.10%      10.08%       16.48%          40.22%  23.7  \n",
      "4         98.88%   12.09%       9.98%       28.57%          50.20%  21.6  \n",
      "5         99.19%    8.79%      10.01%       37.36%          60.21%  22.8  \n",
      "6         99.19%    8.79%      10.02%       46.15%          70.22%  24.1  \n",
      "7         98.37%   17.58%       9.92%       63.74%          80.14%  16.4  \n",
      "8         98.07%   20.88%       9.90%       84.62%          90.05%   5.4  \n",
      "9         98.58%   15.38%       9.95%      100.00%         100.00%   0.0  \n",
      "10        99.07%  100.00%     100.00%                               24.1  \n",
      "\u001b[31mKS is 24.099999999999998% at decile 6\n"
     ]
    }
   ],
   "source": [
    "df_out_FPD=pd.merge(y_oot_FPD, df_out, how='left', left_index=True, right_index=True)\n",
    "df_out_FPD=df_out_FPD[df_out_FPD['FPD_flag'] !=2]\n",
    "ks_oot_FPD=ks(data=df_out_FPD, target='FPD_flag', prob='Y_hats')"
   ]
  },
  {
   "cell_type": "code",
   "execution_count": 131,
   "metadata": {},
   "outputs": [
    {
     "name": "stdout",
     "output_type": "stream",
     "text": [
      "      min_score  max_score  events  nonevents   total event_rate  \\\n",
      "0      0.341481   0.762183     6.0      889.0   895.0      0.67%   \n",
      "1      0.251577    0.34132    11.0      883.0   894.0      1.23%   \n",
      "2      0.197951    0.25138     6.0      889.0   895.0      0.67%   \n",
      "3      0.160449   0.197925     7.0      887.0   894.0      0.78%   \n",
      "4      0.128473   0.160449     5.0      890.0   895.0      0.56%   \n",
      "5      0.102003   0.128451     9.0      885.0   894.0      1.01%   \n",
      "6     0.0782552    0.10196     8.0      887.0   895.0      0.89%   \n",
      "7      0.057678    0.07823    14.0      880.0   894.0      1.57%   \n",
      "8     0.0368133   0.057675    15.0      880.0   895.0      1.68%   \n",
      "9   0.000505634  0.0368098    18.0      877.0   895.0      2.01%   \n",
      "10                            99.0     8847.0  8946.0      1.11%   \n",
      "\n",
      "   nonevent_rate % events % nonevents % cum_events % cum_nonevents    KS  \n",
      "0         99.33%    6.06%      10.05%        6.06%          10.05%   4.0  \n",
      "1         98.77%   11.11%       9.98%       17.17%          20.03%   2.9  \n",
      "2         99.33%    6.06%      10.05%       23.23%          30.08%   6.8  \n",
      "3         99.22%    7.07%      10.03%       30.30%          40.10%   9.8  \n",
      "4         99.44%    5.05%      10.06%       35.35%          50.16%  14.8  \n",
      "5         98.99%    9.09%      10.00%       44.44%          60.17%  15.7  \n",
      "6         99.11%    8.08%      10.03%       52.53%          70.19%  17.7  \n",
      "7         98.43%   14.14%       9.95%       66.67%          80.14%  13.5  \n",
      "8         98.32%   15.15%       9.95%       81.82%          90.09%   8.3  \n",
      "9         97.99%   18.18%       9.91%      100.00%         100.00%   0.0  \n",
      "10        98.89%  100.00%     100.00%                               17.7  \n",
      "\u001b[31mKS is 17.7% at decile 6\n"
     ]
    }
   ],
   "source": [
    "df_out_ever60by4=pd.merge(y_oot_ever60by4, df_out, how='left', left_index=True, right_index=True)\n",
    "df_out_ever60by4=df_out_ever60by4[df_out_ever60by4['ever60by4_flag'] !=2]\n",
    "ks_oot_ever60by4=ks(data=df_out_ever60by4, target='ever60by4_flag', prob='Y_hats')"
   ]
  },
  {
   "cell_type": "code",
   "execution_count": 132,
   "metadata": {},
   "outputs": [],
   "source": [
    "xgb_predictor.delete_endpoint()"
   ]
  }
 ],
 "metadata": {
  "kernelspec": {
   "display_name": "conda_python3",
   "language": "python",
   "name": "conda_python3"
  },
  "language_info": {
   "codemirror_mode": {
    "name": "ipython",
    "version": 3
   },
   "file_extension": ".py",
   "mimetype": "text/x-python",
   "name": "python",
   "nbconvert_exporter": "python",
   "pygments_lexer": "ipython3",
   "version": "3.6.10"
  }
 },
 "nbformat": 4,
 "nbformat_minor": 4
}
