{
 "cells": [
  {
   "cell_type": "code",
   "execution_count": 1,
   "metadata": {},
   "outputs": [],
   "source": [
    "# Import packages\n",
    "\n",
    "import pandas as pd\n",
    "\n",
    "import numpy as np\n",
    "import _pickle as cpickle\n",
    "import matplotlib.pyplot as plt\n",
    "import pickle as pkl\n",
    "from sklearn import metrics\n",
    "from sklearn.metrics import confusion_matrix\n",
    "from sklearn.metrics import accuracy_score\n",
    "from sklearn.metrics import roc_auc_score\n",
    "\n",
    "import sagemaker\n",
    "import boto3\n",
    "from sagemaker.predictor import csv_serializer\n",
    "from sagemaker import get_execution_role\n",
    "import sys\n",
    "sys.path.insert(0, '/home/ec2-user/SageMaker/mymodule/')\n",
    "\n",
    "from common_functions import psi\n",
    "from common_functions import ks\n",
    "import boto3\n",
    "import io\n",
    "import os\n",
    "import datetime as dt\n",
    "\n",
    "%matplotlib inline"
   ]
  },
  {
   "cell_type": "code",
   "execution_count": 2,
   "metadata": {},
   "outputs": [],
   "source": [
    "bucket = 'mf-ml-ds'\n",
    "\n",
    "prefix = 'propensity_to_pay/source'\n",
    "# s3_source = 's3://'+ bucket_name +'/propensity_to_fund/model_monitor/val_'\n",
    "# s3_source_path  = s3_source + YYYYMM\n",
    "# s3_score_target  = 'propensity_to_fund/model_monitor/val_' + YYYYMM +'/'\n",
    "# # pps_score_file_name = 'xgb_weighted_score_pot_' + YYYYMM +'.csv'\n",
    "\n",
    "# psi_file_path = 's3://'+ bucket_name + '/' + s3_score_target\n",
    "model_path = 'propensity_to_pay/final_model/'\n",
    "\n",
    "s3 = boto3.resource('s3')"
   ]
  },
  {
   "cell_type": "code",
   "execution_count": 3,
   "metadata": {},
   "outputs": [
    {
     "data": {
      "text/html": [
       "<div>\n",
       "<style scoped>\n",
       "    .dataframe tbody tr th:only-of-type {\n",
       "        vertical-align: middle;\n",
       "    }\n",
       "\n",
       "    .dataframe tbody tr th {\n",
       "        vertical-align: top;\n",
       "    }\n",
       "\n",
       "    .dataframe thead th {\n",
       "        text-align: right;\n",
       "    }\n",
       "</style>\n",
       "<table border=\"1\" class=\"dataframe\">\n",
       "  <thead>\n",
       "    <tr style=\"text-align: right;\">\n",
       "      <th></th>\n",
       "      <th>RefreshFicoScore</th>\n",
       "      <th>Original_Term</th>\n",
       "      <th>LNAPRO</th>\n",
       "      <th>number_of_prior_loans</th>\n",
       "      <th>DISPOSABLE_INCOME</th>\n",
       "      <th>yrs_on_job_dbl</th>\n",
       "      <th>__of_days_until_pmt_date</th>\n",
       "      <th>MaxCarValue</th>\n",
       "      <th>Times29_Ever</th>\n",
       "      <th>Times30_Ever</th>\n",
       "      <th>...</th>\n",
       "      <th>badflag</th>\n",
       "      <th>Homeowner</th>\n",
       "      <th>FPD_n</th>\n",
       "      <th>Auto_Pay_flag</th>\n",
       "      <th>PB</th>\n",
       "      <th>Coborrower</th>\n",
       "      <th>acflnps_n</th>\n",
       "      <th>lendingtree</th>\n",
       "      <th>CreditKumar</th>\n",
       "      <th>upb_ratio</th>\n",
       "    </tr>\n",
       "  </thead>\n",
       "  <tbody>\n",
       "    <tr>\n",
       "      <th>0</th>\n",
       "      <td>652</td>\n",
       "      <td>38</td>\n",
       "      <td>31.84000</td>\n",
       "      <td>0</td>\n",
       "      <td>NaN</td>\n",
       "      <td>NaN</td>\n",
       "      <td>-13</td>\n",
       "      <td>NaN</td>\n",
       "      <td>5.0</td>\n",
       "      <td>0.0</td>\n",
       "      <td>...</td>\n",
       "      <td>0.0</td>\n",
       "      <td>0</td>\n",
       "      <td>0.0</td>\n",
       "      <td>1</td>\n",
       "      <td>0</td>\n",
       "      <td>0</td>\n",
       "      <td>NaN</td>\n",
       "      <td>0</td>\n",
       "      <td>0</td>\n",
       "      <td>-0.186463</td>\n",
       "    </tr>\n",
       "    <tr>\n",
       "      <th>1</th>\n",
       "      <td>655</td>\n",
       "      <td>48</td>\n",
       "      <td>35.98888</td>\n",
       "      <td>2</td>\n",
       "      <td>6993.09</td>\n",
       "      <td>5.66</td>\n",
       "      <td>-15</td>\n",
       "      <td>NaN</td>\n",
       "      <td>NaN</td>\n",
       "      <td>NaN</td>\n",
       "      <td>...</td>\n",
       "      <td>0.0</td>\n",
       "      <td>0</td>\n",
       "      <td>0.0</td>\n",
       "      <td>1</td>\n",
       "      <td>1</td>\n",
       "      <td>0</td>\n",
       "      <td>7.0</td>\n",
       "      <td>0</td>\n",
       "      <td>0</td>\n",
       "      <td>0.980293</td>\n",
       "    </tr>\n",
       "    <tr>\n",
       "      <th>2</th>\n",
       "      <td>715</td>\n",
       "      <td>41</td>\n",
       "      <td>26.66000</td>\n",
       "      <td>0</td>\n",
       "      <td>NaN</td>\n",
       "      <td>NaN</td>\n",
       "      <td>-93</td>\n",
       "      <td>NaN</td>\n",
       "      <td>NaN</td>\n",
       "      <td>NaN</td>\n",
       "      <td>...</td>\n",
       "      <td>0.0</td>\n",
       "      <td>0</td>\n",
       "      <td>0.0</td>\n",
       "      <td>0</td>\n",
       "      <td>0</td>\n",
       "      <td>0</td>\n",
       "      <td>NaN</td>\n",
       "      <td>0</td>\n",
       "      <td>0</td>\n",
       "      <td>0.392555</td>\n",
       "    </tr>\n",
       "    <tr>\n",
       "      <th>3</th>\n",
       "      <td>621</td>\n",
       "      <td>40</td>\n",
       "      <td>27.13000</td>\n",
       "      <td>0</td>\n",
       "      <td>NaN</td>\n",
       "      <td>NaN</td>\n",
       "      <td>-96</td>\n",
       "      <td>NaN</td>\n",
       "      <td>NaN</td>\n",
       "      <td>NaN</td>\n",
       "      <td>...</td>\n",
       "      <td>0.0</td>\n",
       "      <td>0</td>\n",
       "      <td>0.0</td>\n",
       "      <td>0</td>\n",
       "      <td>0</td>\n",
       "      <td>0</td>\n",
       "      <td>NaN</td>\n",
       "      <td>0</td>\n",
       "      <td>0</td>\n",
       "      <td>0.427622</td>\n",
       "    </tr>\n",
       "    <tr>\n",
       "      <th>4</th>\n",
       "      <td>676</td>\n",
       "      <td>36</td>\n",
       "      <td>35.98518</td>\n",
       "      <td>0</td>\n",
       "      <td>-498.00</td>\n",
       "      <td>22.36</td>\n",
       "      <td>-22</td>\n",
       "      <td>NaN</td>\n",
       "      <td>NaN</td>\n",
       "      <td>NaN</td>\n",
       "      <td>...</td>\n",
       "      <td>0.0</td>\n",
       "      <td>1</td>\n",
       "      <td>0.0</td>\n",
       "      <td>0</td>\n",
       "      <td>0</td>\n",
       "      <td>0</td>\n",
       "      <td>7.0</td>\n",
       "      <td>0</td>\n",
       "      <td>0</td>\n",
       "      <td>1.000000</td>\n",
       "    </tr>\n",
       "  </tbody>\n",
       "</table>\n",
       "<p>5 rows × 50 columns</p>\n",
       "</div>"
      ],
      "text/plain": [
       "   RefreshFicoScore  Original_Term    LNAPRO  number_of_prior_loans  \\\n",
       "0               652             38  31.84000                      0   \n",
       "1               655             48  35.98888                      2   \n",
       "2               715             41  26.66000                      0   \n",
       "3               621             40  27.13000                      0   \n",
       "4               676             36  35.98518                      0   \n",
       "\n",
       "   DISPOSABLE_INCOME  yrs_on_job_dbl  __of_days_until_pmt_date  MaxCarValue  \\\n",
       "0                NaN             NaN                       -13          NaN   \n",
       "1            6993.09            5.66                       -15          NaN   \n",
       "2                NaN             NaN                       -93          NaN   \n",
       "3                NaN             NaN                       -96          NaN   \n",
       "4            -498.00           22.36                       -22          NaN   \n",
       "\n",
       "   Times29_Ever  Times30_Ever  ...  badflag  Homeowner  FPD_n  Auto_Pay_flag  \\\n",
       "0           5.0           0.0  ...      0.0          0    0.0              1   \n",
       "1           NaN           NaN  ...      0.0          0    0.0              1   \n",
       "2           NaN           NaN  ...      0.0          0    0.0              0   \n",
       "3           NaN           NaN  ...      0.0          0    0.0              0   \n",
       "4           NaN           NaN  ...      0.0          1    0.0              0   \n",
       "\n",
       "   PB  Coborrower  acflnps_n  lendingtree  CreditKumar  upb_ratio  \n",
       "0   0           0        NaN            0            0  -0.186463  \n",
       "1   1           0        7.0            0            0   0.980293  \n",
       "2   0           0        NaN            0            0   0.392555  \n",
       "3   0           0        NaN            0            0   0.427622  \n",
       "4   0           0        7.0            0            0   1.000000  \n",
       "\n",
       "[5 rows x 50 columns]"
      ]
     },
     "execution_count": 3,
     "metadata": {},
     "output_type": "execute_result"
    }
   ],
   "source": [
    "#read in the csv model development data\n",
    "df=pd.read_csv('s3://mf-ml-ds/propensity_to_pay/Monthly_Validation/val_202008/slows.csv')\n",
    "\n",
    "df.head()\n"
   ]
  },
  {
   "cell_type": "code",
   "execution_count": 90,
   "metadata": {},
   "outputs": [],
   "source": [
    "ptable = pd.DataFrame()\n",
    "for col in df.columns:\n",
    "    percentiles = df[col].quantile([0.01,0.99]).values\n",
    "    df.loc[df[col] <= percentiles[0], col] = percentiles[0]\n",
    "    df.loc[df[col] >= percentiles[1], col] = percentiles[1]\n",
    "    ptable[col]=percentiles\n",
    "    "
   ]
  },
  {
   "cell_type": "code",
   "execution_count": 5,
   "metadata": {},
   "outputs": [],
   "source": [
    "ptable.to_csv('../sagemaker/slows_capfloor.csv', index=False)"
   ]
  },
  {
   "cell_type": "code",
   "execution_count": 91,
   "metadata": {},
   "outputs": [],
   "source": [
    "df=df.fillna(0)\n",
    "\n",
    "\n"
   ]
  },
  {
   "cell_type": "markdown",
   "metadata": {},
   "source": [
    "ML Preparation"
   ]
  },
  {
   "cell_type": "code",
   "execution_count": 92,
   "metadata": {},
   "outputs": [],
   "source": [
    "\n",
    "#split the model development sample into train and test sample\n",
    "from sklearn.model_selection import train_test_split\n",
    "X_train, X_test, y_train, y_test=train_test_split(df.drop(['badflag'], axis='columns'), df.badflag, test_size=0.3)\n",
    "\n"
   ]
  },
  {
   "cell_type": "code",
   "execution_count": 93,
   "metadata": {},
   "outputs": [],
   "source": [
    "X_train=X_train.drop([\"FPD_n\"], axis=1)\n",
    "X_test=X_test.drop([\"FPD_n\"], axis=1)"
   ]
  },
  {
   "cell_type": "code",
   "execution_count": 16,
   "metadata": {},
   "outputs": [],
   "source": [
    "feature_names = X_train.head(1)"
   ]
  },
  {
   "cell_type": "code",
   "execution_count": 17,
   "metadata": {},
   "outputs": [
    {
     "data": {
      "text/html": [
       "<div>\n",
       "<style scoped>\n",
       "    .dataframe tbody tr th:only-of-type {\n",
       "        vertical-align: middle;\n",
       "    }\n",
       "\n",
       "    .dataframe tbody tr th {\n",
       "        vertical-align: top;\n",
       "    }\n",
       "\n",
       "    .dataframe thead th {\n",
       "        text-align: right;\n",
       "    }\n",
       "</style>\n",
       "<table border=\"1\" class=\"dataframe\">\n",
       "  <thead>\n",
       "    <tr style=\"text-align: right;\">\n",
       "      <th></th>\n",
       "      <th>RefreshFicoScore</th>\n",
       "      <th>Original_Term</th>\n",
       "      <th>LNAPRO</th>\n",
       "      <th>number_of_prior_loans</th>\n",
       "      <th>DISPOSABLE_INCOME</th>\n",
       "      <th>yrs_on_job_dbl</th>\n",
       "      <th>__of_days_until_pmt_date</th>\n",
       "      <th>MaxCarValue</th>\n",
       "      <th>Times29_Ever</th>\n",
       "      <th>Times30_Ever</th>\n",
       "      <th>...</th>\n",
       "      <th>ADA_3758</th>\n",
       "      <th>ADA_3166</th>\n",
       "      <th>Homeowner</th>\n",
       "      <th>Auto_Pay_flag</th>\n",
       "      <th>PB</th>\n",
       "      <th>Coborrower</th>\n",
       "      <th>acflnps_n</th>\n",
       "      <th>lendingtree</th>\n",
       "      <th>CreditKumar</th>\n",
       "      <th>upb_ratio</th>\n",
       "    </tr>\n",
       "  </thead>\n",
       "  <tbody>\n",
       "    <tr>\n",
       "      <th>339400</th>\n",
       "      <td>584.0</td>\n",
       "      <td>18.0</td>\n",
       "      <td>35.98707</td>\n",
       "      <td>1.0</td>\n",
       "      <td>2321.96</td>\n",
       "      <td>0.0</td>\n",
       "      <td>-5.0</td>\n",
       "      <td>0.0</td>\n",
       "      <td>0.0</td>\n",
       "      <td>0.0</td>\n",
       "      <td>...</td>\n",
       "      <td>1.0</td>\n",
       "      <td>9139.0</td>\n",
       "      <td>1.0</td>\n",
       "      <td>0.0</td>\n",
       "      <td>0.0</td>\n",
       "      <td>0.0</td>\n",
       "      <td>7.0</td>\n",
       "      <td>0.0</td>\n",
       "      <td>0.0</td>\n",
       "      <td>0.704551</td>\n",
       "    </tr>\n",
       "  </tbody>\n",
       "</table>\n",
       "<p>1 rows × 48 columns</p>\n",
       "</div>"
      ],
      "text/plain": [
       "        RefreshFicoScore  Original_Term    LNAPRO  number_of_prior_loans  \\\n",
       "339400             584.0           18.0  35.98707                    1.0   \n",
       "\n",
       "        DISPOSABLE_INCOME  yrs_on_job_dbl  __of_days_until_pmt_date  \\\n",
       "339400            2321.96             0.0                      -5.0   \n",
       "\n",
       "        MaxCarValue  Times29_Ever  Times30_Ever  ...  ADA_3758  ADA_3166  \\\n",
       "339400          0.0           0.0           0.0  ...       1.0    9139.0   \n",
       "\n",
       "        Homeowner  Auto_Pay_flag   PB  Coborrower  acflnps_n  lendingtree  \\\n",
       "339400        1.0            0.0  0.0         0.0        7.0          0.0   \n",
       "\n",
       "        CreditKumar  upb_ratio  \n",
       "339400          0.0   0.704551  \n",
       "\n",
       "[1 rows x 48 columns]"
      ]
     },
     "execution_count": 17,
     "metadata": {},
     "output_type": "execute_result"
    }
   ],
   "source": [
    "feature_names\n",
    "\n",
    "\n",
    "\n"
   ]
  },
  {
   "cell_type": "markdown",
   "metadata": {},
   "source": [
    "XGBoost container expects CSV data format on S3"
   ]
  },
  {
   "cell_type": "code",
   "execution_count": 18,
   "metadata": {},
   "outputs": [],
   "source": [
    "train_csv = 'train.csv'\n",
    "validation_csv = 'validation.csv'\n",
    "feature_csv='feature.csv'"
   ]
  },
  {
   "cell_type": "code",
   "execution_count": 19,
   "metadata": {},
   "outputs": [],
   "source": [
    "pd.concat([y_train.to_frame(), X_train], axis=1).to_csv(train_csv, index=False, header=False)\n",
    "pd.concat([y_test.to_frame(), X_test], axis=1).to_csv(validation_csv, index=False, header=False)\n",
    "feature_names.to_csv(feature_csv,index=False)"
   ]
  },
  {
   "cell_type": "code",
   "execution_count": 20,
   "metadata": {},
   "outputs": [],
   "source": [
    "role = get_execution_role()            ## Run this before the training job to get your IAM role\n",
    "region = boto3.Session().region_name   ## Run this here, you will need it during training\n",
    "\n",
    "\n",
    "boto3.Session().resource('s3').Bucket(bucket).Object(os.path.join(prefix, 'train/'+ train_csv )).upload_file(train_csv)\n",
    "boto3.Session().resource('s3').Bucket(bucket).Object(os.path.join(prefix, 'validation/' + validation_csv)).upload_file(validation_csv)\n",
    "boto3.Session().resource('s3').Bucket(bucket).Object(os.path.join(prefix, 'feature/' + feature_csv)).upload_file(feature_csv)"
   ]
  },
  {
   "cell_type": "code",
   "execution_count": 21,
   "metadata": {},
   "outputs": [],
   "source": [
    "\n",
    "!rm {train_csv} {validation_csv} {feature_csv}"
   ]
  },
  {
   "cell_type": "markdown",
   "metadata": {},
   "source": [
    "Model Train"
   ]
  },
  {
   "cell_type": "code",
   "execution_count": 22,
   "metadata": {},
   "outputs": [],
   "source": [
    "import sagemaker\n",
    "from sagemaker import get_execution_role\n",
    "from sagemaker import image_uris\n",
    "from sagemaker.amazon.amazon_estimator import get_image_uri\n",
    "from sagemaker.inputs import TrainingInput"
   ]
  },
  {
   "cell_type": "code",
   "execution_count": 23,
   "metadata": {},
   "outputs": [],
   "source": [
    "role = get_execution_role()\n",
    "container = sagemaker.image_uris.retrieve(\"xgboost\", boto3.Session().region_name, \"1.2-1\" )"
   ]
  },
  {
   "cell_type": "code",
   "execution_count": 24,
   "metadata": {},
   "outputs": [
    {
     "data": {
      "text/plain": [
       "'683313688378.dkr.ecr.us-east-1.amazonaws.com/sagemaker-xgboost:1.2-1'"
      ]
     },
     "execution_count": 24,
     "metadata": {},
     "output_type": "execute_result"
    }
   ],
   "source": [
    "container"
   ]
  },
  {
   "cell_type": "code",
   "execution_count": 25,
   "metadata": {},
   "outputs": [],
   "source": [
    "sms = sagemaker.Session()"
   ]
  },
  {
   "cell_type": "code",
   "execution_count": 26,
   "metadata": {},
   "outputs": [],
   "source": [
    "train_data_path      = 's3://{}/{}/{}'.format(bucket, prefix, 'train')\n",
    "validation_data_path = 's3://{}/{}/{}'.format(bucket, prefix, 'validation')\n",
    "s3_output_location   = 's3://{}/{}/{}'.format(bucket, prefix, 'xgboost_model_sdk')\n",
    "feature_location = 's3://{}/{}/{}'.format(bucket, prefix, 'feature')"
   ]
  },
  {
   "cell_type": "code",
   "execution_count": 27,
   "metadata": {},
   "outputs": [],
   "source": [
    "df_feature = pd.read_csv(feature_location+'/feature.csv')\n",
    "feature_names = df_feature.columns\n",
    "\n"
   ]
  },
  {
   "cell_type": "code",
   "execution_count": 28,
   "metadata": {},
   "outputs": [
    {
     "data": {
      "text/plain": [
       "Index(['RefreshFicoScore', 'Original_Term', 'LNAPRO', 'number_of_prior_loans',\n",
       "       'DISPOSABLE_INCOME', 'yrs_on_job_dbl', '__of_days_until_pmt_date',\n",
       "       'MaxCarValue', 'Times29_Ever', 'Times30_Ever', 'Times90_Ever',\n",
       "       'ADA_3236', 'ADA_3117', 'ADA_3113', 'ADA_3124', 'ADA_3756', 'ADA_3854',\n",
       "       'ADA_3122', 'ADA_3135', 'ADA_3159', 'ADA_3268', 'ADA_3415', 'ADA_3743',\n",
       "       'ADA_3755', 'ADA_3798', 'ADA_3805', 'ADA_3843', 'ADA_3206', 'ADA_3293',\n",
       "       'ADA_3761', 'ADA_3835', 'ADA_3024', 'ADA_3027', 'ADA_3031', 'ADA_3580',\n",
       "       'ADA_3723', 'ADA_3395', 'ADA_3724', 'ADA_3758', 'ADA_3166', 'Homeowner',\n",
       "       'Auto_Pay_flag', 'PB', 'Coborrower', 'acflnps_n', 'lendingtree',\n",
       "       'CreditKumar', 'upb_ratio'],\n",
       "      dtype='object')"
      ]
     },
     "execution_count": 28,
     "metadata": {},
     "output_type": "execute_result"
    }
   ],
   "source": [
    "feature_names"
   ]
  },
  {
   "cell_type": "code",
   "execution_count": 29,
   "metadata": {},
   "outputs": [],
   "source": [
    "\n",
    "\n",
    "nfeatures = str(len(feature_names))\n",
    "\n"
   ]
  },
  {
   "cell_type": "code",
   "execution_count": 30,
   "metadata": {},
   "outputs": [
    {
     "data": {
      "text/plain": [
       "'48'"
      ]
     },
     "execution_count": 30,
     "metadata": {},
     "output_type": "execute_result"
    }
   ],
   "source": [
    "nfeatures"
   ]
  },
  {
   "cell_type": "code",
   "execution_count": 31,
   "metadata": {},
   "outputs": [],
   "source": [
    "s3_input_train = TrainingInput(s3_data=train_data_path, content_type='csv')\n",
    "s3_input_validation = TrainingInput(s3_data=validation_data_path, content_type='csv')\n"
   ]
  },
  {
   "cell_type": "code",
   "execution_count": 32,
   "metadata": {},
   "outputs": [],
   "source": [
    "from sagemaker.debugger import ProfilerConfig, DebuggerHookConfig, Rule, ProfilerRule, rule_configs,CollectionConfig"
   ]
  },
  {
   "cell_type": "code",
   "execution_count": 33,
   "metadata": {},
   "outputs": [],
   "source": [
    "save_interval = 5\n",
    "profiler_config=ProfilerConfig()\n",
    "debugger_hook_config=DebuggerHookConfig(\n",
    "    s3_output_path = s3_output_location,\n",
    "    collection_configs=[\n",
    "            CollectionConfig(\n",
    "                name=\"metrics\",\n",
    "                parameters={\n",
    "                    \"save_interval\": str(save_interval)\n",
    "                }\n",
    "            ),\n",
    "#             CollectionConfig(\n",
    "#                 name=\"feature_importance\",\n",
    "#                 parameters={\n",
    "#                     \"save_interval\": str(save_interval)\n",
    "#                 }\n",
    "#             ),\n",
    "            CollectionConfig(\n",
    "                name=\"full_shap\",\n",
    "                parameters={\n",
    "                    \"save_interval\": str(save_interval)\n",
    "                }\n",
    "            ),\n",
    "            CollectionConfig(\n",
    "                name=\"average_shap\",\n",
    "                parameters={\n",
    "                    \"save_interval\": str(save_interval)\n",
    "                }\n",
    "            ),\n",
    "        ]\n",
    ")"
   ]
  },
  {
   "cell_type": "code",
   "execution_count": 34,
   "metadata": {},
   "outputs": [],
   "source": [
    "rules=[\n",
    "        #Rule.sagemaker(rule_configs.create_xgboost_report()),\n",
    "       ProfilerRule.sagemaker(rule_configs.ProfilerReport())\n",
    "       , Rule.sagemaker(\n",
    "        base_config=rule_configs.feature_importance_overweight(),\n",
    "        rule_parameters={\n",
    "                \"threshold\": \"0.0\",\n",
    "                \"nfeatures\": nfeatures\n",
    "                ,\"tensor_regex\": \".*feature_importance/weight\"\n",
    "                    },\n",
    "         collections_to_save=[\n",
    "            CollectionConfig(\n",
    "                name=\"feature_importance\"\n",
    "               ,parameters={\n",
    "                    \"save_interval\": \"5\"\n",
    "                } \n",
    "            )\n",
    "         ]\n",
    "    )\n",
    "]"
   ]
  },
  {
   "cell_type": "code",
   "execution_count": 35,
   "metadata": {},
   "outputs": [
    {
     "data": {
      "text/plain": [
       "[ProfilerRule(name='ProfilerReport', image_uri='DEFAULT_RULE_EVALUATOR_IMAGE', instance_type=None, container_local_output_path=None, s3_output_path=None, volume_size_in_gb=None, rule_parameters={'rule_to_invoke': 'ProfilerReport'}),\n",
       " Rule(name='FeatureImportanceOverweight', image_uri='DEFAULT_RULE_EVALUATOR_IMAGE', instance_type=None, container_local_output_path=None, s3_output_path=None, volume_size_in_gb=None, rule_parameters={'rule_to_invoke': 'FeatureImportanceOverweight', 'threshold': '0.0', 'nfeatures': '48', 'tensor_regex': '.*feature_importance/weight'})]"
      ]
     },
     "execution_count": 35,
     "metadata": {},
     "output_type": "execute_result"
    }
   ],
   "source": [
    "rules"
   ]
  },
  {
   "cell_type": "code",
   "execution_count": 36,
   "metadata": {},
   "outputs": [],
   "source": [
    "\n",
    "xgb = sagemaker.estimator.Estimator(\n",
    "                                    container,\n",
    "                                    role,\n",
    "                                    instance_count=1,\n",
    "                                    instance_type='ml.m5.xlarge',\n",
    "                                    output_path=s3_output_location,\n",
    "                                    sagemaker_session = sms,\n",
    "                                    base_job_name = 'mf-ml-pps-slows-xgb-jn',\n",
    "    \n",
    "                                    # Debugger-specific parameters\n",
    "                                    profiler_config=profiler_config,\n",
    "                                    debugger_hook_config=debugger_hook_config,\n",
    "                                    rules=rules\n",
    "                            )\n"
   ]
  },
  {
   "cell_type": "code",
   "execution_count": 37,
   "metadata": {},
   "outputs": [],
   "source": [
    "xgb.set_hyperparameters(num_round=51,\n",
    "                        max_depth=5,\n",
    "                        eta=0.2,\n",
    "                        objective='binary:logistic',\n",
    "                        \n",
    "                        base_score=0.5,\n",
    "                        booster='gbtree',\n",
    "                        gamma=4,\n",
    "                        sample_type= 'weighted',\n",
    "                        min_child_weight=5,\n",
    "                     \n",
    "                        seed=42,\n",
    "                        subsample=0.7,\n",
    "                        verbosity=1,\n",
    "                        eval_metric='auc'\n",
    "                       )"
   ]
  },
  {
   "cell_type": "code",
   "execution_count": 38,
   "metadata": {},
   "outputs": [],
   "source": [
    "data_channels = {'train': s3_input_train, 'validation': s3_input_validation}"
   ]
  },
  {
   "cell_type": "code",
   "execution_count": 39,
   "metadata": {},
   "outputs": [
    {
     "name": "stdout",
     "output_type": "stream",
     "text": [
      "2022-02-14 19:24:52 Starting - Starting the training job...\n",
      "2022-02-14 19:25:17 Starting - Launching requested ML instancesFeatureImportanceOverweight: InProgress\n",
      "ProfilerReport: InProgress\n",
      ".........\n",
      "2022-02-14 19:26:42 Starting - Preparing the instances for training......\n",
      "2022-02-14 19:27:43 Downloading - Downloading input data...\n",
      "2022-02-14 19:28:23 Training - Training image download completed. Training in progress..\u001b[34m[2022-02-14 19:28:23.901 ip-10-2-79-212.ec2.internal:1 INFO utils.py:27] RULE_JOB_STOP_SIGNAL_FILENAME: None\u001b[0m\n",
      "\u001b[34mINFO:sagemaker-containers:Imported framework sagemaker_xgboost_container.training\u001b[0m\n",
      "\u001b[34mINFO:sagemaker-containers:Failed to parse hyperparameter eval_metric value auc to Json.\u001b[0m\n",
      "\u001b[34mReturning the value itself\u001b[0m\n",
      "\u001b[34mINFO:sagemaker-containers:Failed to parse hyperparameter sample_type value weighted to Json.\u001b[0m\n",
      "\u001b[34mReturning the value itself\u001b[0m\n",
      "\u001b[34mINFO:sagemaker-containers:Failed to parse hyperparameter booster value gbtree to Json.\u001b[0m\n",
      "\u001b[34mReturning the value itself\u001b[0m\n",
      "\u001b[34mINFO:sagemaker-containers:Failed to parse hyperparameter objective value binary:logistic to Json.\u001b[0m\n",
      "\u001b[34mReturning the value itself\u001b[0m\n",
      "\u001b[34mINFO:sagemaker-containers:No GPUs detected (normal if no gpus installed)\u001b[0m\n",
      "\u001b[34mINFO:sagemaker_xgboost_container.training:Running XGBoost Sagemaker in algorithm mode\u001b[0m\n",
      "\u001b[34mINFO:root:Determined delimiter of CSV input is ','\u001b[0m\n",
      "\u001b[34mINFO:root:Determined delimiter of CSV input is ','\u001b[0m\n",
      "\u001b[34mINFO:root:Determined delimiter of CSV input is ','\u001b[0m\n",
      "\u001b[34mINFO:root:Determined delimiter of CSV input is ','\u001b[0m\n",
      "\u001b[34mINFO:root:Single node training.\u001b[0m\n",
      "\u001b[34m[2022-02-14 19:28:25.278 ip-10-2-79-212.ec2.internal:1 INFO json_config.py:91] Creating hook from json_config at /opt/ml/input/config/debughookconfig.json.\u001b[0m\n",
      "\u001b[34m[2022-02-14 19:28:25.279 ip-10-2-79-212.ec2.internal:1 INFO hook.py:199] tensorboard_dir has not been set for the hook. SMDebug will not be exporting tensorboard summaries.\u001b[0m\n",
      "\u001b[34m[2022-02-14 19:28:25.279 ip-10-2-79-212.ec2.internal:1 INFO profiler_config_parser.py:102] User has disabled profiler.\u001b[0m\n",
      "\u001b[34m[2022-02-14 19:28:25.280 ip-10-2-79-212.ec2.internal:1 INFO hook.py:253] Saving to /opt/ml/output/tensors\u001b[0m\n",
      "\u001b[34m[2022-02-14 19:28:25.280 ip-10-2-79-212.ec2.internal:1 INFO state_store.py:77] The checkpoint config file /opt/ml/input/config/checkpointconfig.json does not exist.\u001b[0m\n",
      "\u001b[34mINFO:root:Debug hook created from config\u001b[0m\n",
      "\u001b[34mINFO:root:Train matrix has 361939 rows and 48 columns\u001b[0m\n",
      "\u001b[34mINFO:root:Validation matrix has 155118 rows\u001b[0m\n",
      "\u001b[34m[19:28:25] WARNING: ../src/learner.cc:516: \u001b[0m\n",
      "\u001b[34mParameters: { sample_type } might not be used.\n",
      "  This may not be accurate due to some parameters are only used in language bindings but\n",
      "  passed down to XGBoost core.  Or some parameters are not used but slip through this\n",
      "  verification. Please open an issue if you find above cases.\u001b[0m\n",
      "\u001b[34m[0]#011train-auc:0.82280#011validation-auc:0.82206\u001b[0m\n",
      "\u001b[34m[2022-02-14 19:28:26.417 ip-10-2-79-212.ec2.internal:1 INFO hook.py:413] Monitoring the collections: full_shap, feature_importance, average_shap, metrics\u001b[0m\n",
      "\u001b[34m[2022-02-14 19:28:26.421 ip-10-2-79-212.ec2.internal:1 INFO hook.py:476] Hook is writing from the hook with pid: 1\u001b[0m\n",
      "\u001b[34m[1]#011train-auc:0.83301#011validation-auc:0.83208\u001b[0m\n",
      "\u001b[34m[2]#011train-auc:0.83485#011validation-auc:0.83429\u001b[0m\n",
      "\u001b[34m[3]#011train-auc:0.83566#011validation-auc:0.83454\u001b[0m\n",
      "\u001b[34m[4]#011train-auc:0.83693#011validation-auc:0.83596\u001b[0m\n",
      "\u001b[34m[5]#011train-auc:0.83813#011validation-auc:0.83703\u001b[0m\n",
      "\u001b[34m[6]#011train-auc:0.83869#011validation-auc:0.83745\u001b[0m\n",
      "\u001b[34m[7]#011train-auc:0.83894#011validation-auc:0.83760\u001b[0m\n",
      "\u001b[34m[8]#011train-auc:0.83986#011validation-auc:0.83847\u001b[0m\n",
      "\u001b[34m[9]#011train-auc:0.84063#011validation-auc:0.83931\u001b[0m\n",
      "\u001b[34m[10]#011train-auc:0.84154#011validation-auc:0.84031\u001b[0m\n",
      "\u001b[34m[11]#011train-auc:0.84276#011validation-auc:0.84100\u001b[0m\n",
      "\u001b[34m[12]#011train-auc:0.84350#011validation-auc:0.84189\u001b[0m\n",
      "\u001b[34m[13]#011train-auc:0.84445#011validation-auc:0.84265\u001b[0m\n",
      "\u001b[34m[14]#011train-auc:0.84557#011validation-auc:0.84346\u001b[0m\n",
      "\u001b[34m[15]#011train-auc:0.84633#011validation-auc:0.84389\u001b[0m\n",
      "\u001b[34m[16]#011train-auc:0.84779#011validation-auc:0.84517\u001b[0m\n",
      "\u001b[34m[17]#011train-auc:0.84850#011validation-auc:0.84581\u001b[0m\n",
      "\u001b[34m[18]#011train-auc:0.84966#011validation-auc:0.84686\u001b[0m\n",
      "\u001b[34m[19]#011train-auc:0.85110#011validation-auc:0.84823\u001b[0m\n",
      "\u001b[34m[20]#011train-auc:0.85173#011validation-auc:0.84863\u001b[0m\n",
      "\u001b[34m[21]#011train-auc:0.85258#011validation-auc:0.84924\u001b[0m\n",
      "\u001b[34m[22]#011train-auc:0.85335#011validation-auc:0.84991\u001b[0m\n",
      "\u001b[34m[23]#011train-auc:0.85434#011validation-auc:0.85072\u001b[0m\n",
      "\u001b[34m[24]#011train-auc:0.85499#011validation-auc:0.85128\u001b[0m\n",
      "\u001b[34m[25]#011train-auc:0.85556#011validation-auc:0.85170\u001b[0m\n",
      "\u001b[34m[26]#011train-auc:0.85641#011validation-auc:0.85218\u001b[0m\n",
      "\u001b[34m[27]#011train-auc:0.85702#011validation-auc:0.85254\u001b[0m\n",
      "\u001b[34m[28]#011train-auc:0.85766#011validation-auc:0.85289\u001b[0m\n",
      "\u001b[34m[29]#011train-auc:0.85836#011validation-auc:0.85326\u001b[0m\n",
      "\u001b[34m[30]#011train-auc:0.85886#011validation-auc:0.85356\u001b[0m\n",
      "\u001b[34m[31]#011train-auc:0.85964#011validation-auc:0.85399\u001b[0m\n",
      "\u001b[34m[32]#011train-auc:0.86026#011validation-auc:0.85424\u001b[0m\n",
      "\u001b[34m[33]#011train-auc:0.86095#011validation-auc:0.85449\u001b[0m\n",
      "\u001b[34m[34]#011train-auc:0.86142#011validation-auc:0.85463\u001b[0m\n",
      "\u001b[34m[35]#011train-auc:0.86181#011validation-auc:0.85489\u001b[0m\n",
      "\u001b[34m[36]#011train-auc:0.86244#011validation-auc:0.85534\u001b[0m\n",
      "\u001b[34m[37]#011train-auc:0.86276#011validation-auc:0.85543\u001b[0m\n",
      "\u001b[34m[38]#011train-auc:0.86330#011validation-auc:0.85570\u001b[0m\n",
      "\u001b[34m[39]#011train-auc:0.86364#011validation-auc:0.85583\u001b[0m\n",
      "\u001b[34m[40]#011train-auc:0.86420#011validation-auc:0.85594\u001b[0m\n",
      "\u001b[34m[41]#011train-auc:0.86458#011validation-auc:0.85596\u001b[0m\n",
      "\u001b[34m[42]#011train-auc:0.86498#011validation-auc:0.85612\u001b[0m\n",
      "\u001b[34m[43]#011train-auc:0.86544#011validation-auc:0.85625\u001b[0m\n",
      "\u001b[34m[44]#011train-auc:0.86576#011validation-auc:0.85642\u001b[0m\n",
      "\u001b[34m[45]#011train-auc:0.86618#011validation-auc:0.85662\u001b[0m\n",
      "FeatureImportanceOverweight: Error\n",
      "\u001b[34m[46]#011train-auc:0.86652#011validation-auc:0.85668\u001b[0m\n",
      "\u001b[34m[47]#011train-auc:0.86679#011validation-auc:0.85673\u001b[0m\n",
      "\u001b[34m[48]#011train-auc:0.86728#011validation-auc:0.85684\u001b[0m\n",
      "\u001b[34m[49]#011train-auc:0.86757#011validation-auc:0.85691\u001b[0m\n",
      "\u001b[34m[50]#011train-auc:0.86783#011validation-auc:0.85687\u001b[0m\n",
      "\n",
      "2022-02-14 19:36:25 Uploading - Uploading generated training model\n",
      "2022-02-14 19:36:45 Completed - Training job completed\n",
      "ProfilerReport: NoIssuesFound\n",
      "Training seconds: 547\n",
      "Billable seconds: 547\n"
     ]
    }
   ],
   "source": [
    "xgb.fit(data_channels,logs='All')"
   ]
  },
  {
   "cell_type": "code",
   "execution_count": 40,
   "metadata": {},
   "outputs": [],
   "source": [
    "from sagemaker.predictor import Predictor\n"
   ]
  },
  {
   "cell_type": "code",
   "execution_count": 41,
   "metadata": {},
   "outputs": [
    {
     "data": {
      "text/plain": [
       "'s3://mf-ml-ds/propensity_to_pay/source/xgboost_model_sdk/mf-ml-pps-slows-xgb-jn-2022-02-14-19-24-52-306/output/model.tar.gz'"
      ]
     },
     "execution_count": 41,
     "metadata": {},
     "output_type": "execute_result"
    }
   ],
   "source": [
    "xgb.model_data"
   ]
  },
  {
   "cell_type": "code",
   "execution_count": 3,
   "metadata": {},
   "outputs": [
    {
     "ename": "NameError",
     "evalue": "name 'xgb' is not defined",
     "output_type": "error",
     "traceback": [
      "\u001b[0;31m---------------------------------------------------------------------------\u001b[0m",
      "\u001b[0;31mNameError\u001b[0m                                 Traceback (most recent call last)",
      "\u001b[0;32m<ipython-input-3-5eca2e536105>\u001b[0m in \u001b[0;36m<module>\u001b[0;34m\u001b[0m\n\u001b[0;32m----> 1\u001b[0;31m \u001b[0mxgb\u001b[0m\u001b[0;34m.\u001b[0m\u001b[0mlatest_job_debugger_artifacts_path\u001b[0m\u001b[0;34m(\u001b[0m\u001b[0;34m)\u001b[0m\u001b[0;34m\u001b[0m\u001b[0;34m\u001b[0m\u001b[0m\n\u001b[0m",
      "\u001b[0;31mNameError\u001b[0m: name 'xgb' is not defined"
     ]
    }
   ],
   "source": [
    "xgb.latest_job_debugger_artifacts_path()"
   ]
  },
  {
   "cell_type": "code",
   "execution_count": 43,
   "metadata": {},
   "outputs": [
    {
     "name": "stdout",
     "output_type": "stream",
     "text": [
      "[2022-02-14 19:37:31.029 ip-172-16-50-54:23893 INFO utils.py:27] RULE_JOB_STOP_SIGNAL_FILENAME: None\n",
      "[2022-02-14 19:37:31.066 ip-172-16-50-54:23893 INFO s3_trial.py:42] Loading trial debug-output at path s3://mf-ml-ds/propensity_to_pay/source/xgboost_model_sdk/mf-ml-pps-slows-xgb-jn-2022-02-14-19-24-52-306/debug-output\n"
     ]
    }
   ],
   "source": [
    "from smdebug.trials import create_trial\n",
    "s3_output_path = xgb.latest_job_debugger_artifacts_path()\n",
    "trial = create_trial(s3_output_path)"
   ]
  },
  {
   "cell_type": "code",
   "execution_count": 44,
   "metadata": {},
   "outputs": [],
   "source": [
    "from itertools import islice\n",
    "import matplotlib.pyplot as plt\n",
    "import re\n",
    "import seaborn as sns\n",
    "\n",
    "MAX_PLOTS = int(nfeatures)\n",
    "\n",
    "def get_data(trial, tname):\n",
    "    \"\"\"\n",
    "    For the given tensor name, walks though all the iterations\n",
    "    for which you have data and fetches the values.\n",
    "    Returns the set of steps and the values.\n",
    "    \"\"\"\n",
    "    tensor = trial.tensor(tname)\n",
    "    steps = tensor.steps()\n",
    "    vals = [tensor.value(s) for s in steps]\n",
    "    return steps, vals\n",
    "\n",
    "def match_tensor_name_with_feature_name(tensor_name, feature_names=feature_names):\n",
    "    feature_tag = tensor_name.split(\"/\")\n",
    "    for ifeat, feature_name in enumerate(feature_names):\n",
    "        if feature_tag[-1]==\"f{}\".format(str(ifeat)): return feature_name\n",
    "    return tensor_name\n",
    "\n",
    "def plot_collection(trial, collection_name, regex='.*', figsize=(8, 6)):\n",
    "    \"\"\"\n",
    "    Takes a `trial` and a collection name, and \n",
    "    plots all tensors that match the given regex.\n",
    "    \"\"\"\n",
    "    fig, ax = plt.subplots(figsize=figsize)\n",
    "    sns.despine()\n",
    "\n",
    "    tensors = trial.collection(collection_name).tensor_names\n",
    "    \n",
    "    matched_tensors = [t for t in tensors if re.match(regex, t)]\n",
    "    \n",
    "    print (matched_tensors)\n",
    "    for tensor_name in islice(matched_tensors, MAX_PLOTS):\n",
    "        if re.match(regex, tensor_name):\n",
    "            steps, data = get_data(trial, tensor_name)\n",
    "            ax.plot(steps, data, label=match_tensor_name_with_feature_name(tensor_name))\n",
    "\n",
    "    ax.legend(loc='center left', bbox_to_anchor=(1, 0.5))\n",
    "    ax.set_xlabel('Iteration')\n",
    "\n",
    "def plot_feature_importance(trial, importance_type=\"weight\"):\n",
    "    SUPPORTED_IMPORTANCE_TYPES = [\"weight\", \"gain\", \"cover\", \"total_gain\", \"total_cover\"]\n",
    "    if importance_type not in SUPPORTED_IMPORTANCE_TYPES:\n",
    "        raise ValueError(f\"{importance_type} is not one of the supported importance types.\")\n",
    "    plot_collection(trial,\"feature_importance\",regex=f\"feature_importance/{importance_type}/.*\")"
   ]
  },
  {
   "cell_type": "code",
   "execution_count": 45,
   "metadata": {},
   "outputs": [],
   "source": [
    "def get_feature_importance(trial, importance_type=\"weight\"):\n",
    "    SUPPORTED_IMPORTANCE_TYPES = [\"weight\", \"gain\", \"cover\", \"total_gain\", \"total_cover\"]\n",
    "    if importance_type not in SUPPORTED_IMPORTANCE_TYPES:\n",
    "        raise ValueError(f\"{importance_type} is not one of the supported importance types.\")\n",
    "    return get_collection(trial,\"feature_importance\",regex=f\"feature_importance/{importance_type}/.*\")\n",
    "def get_data_last_step(trial, tname):\n",
    "    \"\"\"\n",
    "    For the given tensor name, walks though all the iterations\n",
    "    for which you have data and fetches the values.\n",
    "    Returns the set of steps and the values.\n",
    "    \"\"\"\n",
    "    vals = trial.tensor(tname).value(trial.last_complete_step)\n",
    "    #print (type(vals))\n",
    "    return float(vals[0])\n",
    "def get_collection(trial, collection_name, regex='.*', figsize=(8, 6)):\n",
    "    \"\"\"\n",
    "    Takes a `trial` and a collection name, and \n",
    "    plots all tensors that match the given regex.\n",
    "    \"\"\"\n",
    "    #fig, ax = plt.subplots(figsize=figsize)\n",
    "    #sns.despine()\n",
    "    df = pd.DataFrame(columns = ['tensore_name','feature_name','feature_importance'])\n",
    "    #df = pd.DataFrame(columns = ['Name', 'Articles', 'Improved'])\n",
    "    tensors = trial.collection(collection_name).tensor_names\n",
    "\n",
    "    matched_tensors = [t for t in tensors if re.match(regex, t)]\n",
    "    \n",
    "    for tensor_name in islice(matched_tensors, MAX_PLOTS):\n",
    "        if re.match(regex, tensor_name):\n",
    "            #print(type(match_tensor_name_with_feature_name(tensor_name)))\n",
    "            #print(tensor_name, get_data_last_step(trial, tensor_name), match_tensor_name_with_feature_name(tensor_name))\n",
    "            #tn, td , tl = tensor_name, get_data_last_step(trial, tensor_name), match_tensor_name_with_feature_name(tensor_name)\n",
    "            #df[\"Name\"] = tensor_name\n",
    "            df = df.append({\n",
    "                            'tensore_name' : tensor_name,\n",
    "                            'feature_name' : match_tensor_name_with_feature_name(tensor_name),\n",
    "                            'feature_importance' : get_data_last_step(trial, tensor_name)\n",
    "                           },\n",
    "                           ignore_index=True\n",
    "                          )\n",
    "            #steps, data = get_data(trial, tensor_name)\n",
    "            #ax.plot(steps, data, label=match_tensor_name_with_feature_name(tensor_name))\n",
    "    return df"
   ]
  },
  {
   "cell_type": "code",
   "execution_count": 46,
   "metadata": {},
   "outputs": [],
   "source": [
    "df_fi = get_feature_importance(trial, \"weight\")\n"
   ]
  },
  {
   "cell_type": "code",
   "execution_count": 47,
   "metadata": {},
   "outputs": [
    {
     "data": {
      "text/plain": [
       "0            RefreshFicoScore\n",
       "1               Auto_Pay_flag\n",
       "2                   upb_ratio\n",
       "3    __of_days_until_pmt_date\n",
       "4                Times29_Ever\n",
       "Name: feature_name, dtype: object"
      ]
     },
     "execution_count": 47,
     "metadata": {},
     "output_type": "execute_result"
    }
   ],
   "source": [
    "df_fi['feature_name']"
   ]
  },
  {
   "cell_type": "code",
   "execution_count": 48,
   "metadata": {},
   "outputs": [
    {
     "data": {
      "text/html": [
       "<div>\n",
       "<style scoped>\n",
       "    .dataframe tbody tr th:only-of-type {\n",
       "        vertical-align: middle;\n",
       "    }\n",
       "\n",
       "    .dataframe tbody tr th {\n",
       "        vertical-align: top;\n",
       "    }\n",
       "\n",
       "    .dataframe thead th {\n",
       "        text-align: right;\n",
       "    }\n",
       "</style>\n",
       "<table border=\"1\" class=\"dataframe\">\n",
       "  <thead>\n",
       "    <tr style=\"text-align: right;\">\n",
       "      <th></th>\n",
       "      <th>tensore_name</th>\n",
       "      <th>feature_name</th>\n",
       "      <th>feature_importance</th>\n",
       "    </tr>\n",
       "  </thead>\n",
       "  <tbody>\n",
       "    <tr>\n",
       "      <th>3</th>\n",
       "      <td>feature_importance/weight/f6</td>\n",
       "      <td>__of_days_until_pmt_date</td>\n",
       "      <td>0.119820</td>\n",
       "    </tr>\n",
       "    <tr>\n",
       "      <th>2</th>\n",
       "      <td>feature_importance/weight/f47</td>\n",
       "      <td>upb_ratio</td>\n",
       "      <td>0.096396</td>\n",
       "    </tr>\n",
       "    <tr>\n",
       "      <th>0</th>\n",
       "      <td>feature_importance/weight/f0</td>\n",
       "      <td>RefreshFicoScore</td>\n",
       "      <td>0.072973</td>\n",
       "    </tr>\n",
       "    <tr>\n",
       "      <th>4</th>\n",
       "      <td>feature_importance/weight/f8</td>\n",
       "      <td>Times29_Ever</td>\n",
       "      <td>0.071171</td>\n",
       "    </tr>\n",
       "    <tr>\n",
       "      <th>1</th>\n",
       "      <td>feature_importance/weight/f41</td>\n",
       "      <td>Auto_Pay_flag</td>\n",
       "      <td>0.060360</td>\n",
       "    </tr>\n",
       "  </tbody>\n",
       "</table>\n",
       "</div>"
      ],
      "text/plain": [
       "                    tensore_name              feature_name  feature_importance\n",
       "3   feature_importance/weight/f6  __of_days_until_pmt_date            0.119820\n",
       "2  feature_importance/weight/f47                 upb_ratio            0.096396\n",
       "0   feature_importance/weight/f0          RefreshFicoScore            0.072973\n",
       "4   feature_importance/weight/f8              Times29_Ever            0.071171\n",
       "1  feature_importance/weight/f41             Auto_Pay_flag            0.060360"
      ]
     },
     "execution_count": 48,
     "metadata": {},
     "output_type": "execute_result"
    }
   ],
   "source": [
    "df_fi.sort_values(\"feature_importance\",ascending=False)"
   ]
  },
  {
   "cell_type": "code",
   "execution_count": 49,
   "metadata": {},
   "outputs": [
    {
     "name": "stdout",
     "output_type": "stream",
     "text": [
      "['validation-auc', 'train-auc']\n",
      "[2022-02-14 19:37:36.136 ip-172-16-50-54:23893 INFO trial.py:198] Training has ended, will refresh one final time in 1 sec.\n",
      "[2022-02-14 19:37:37.155 ip-172-16-50-54:23893 INFO trial.py:210] Loaded all steps\n"
     ]
    },
    {
     "data": {
      "image/png": "[encoded data removed]",
      "text/plain": [
       "<Figure size 576x432 with 1 Axes>"
      ]
     },
     "metadata": {
      "needs_background": "light"
     },
     "output_type": "display_data"
    }
   ],
   "source": [
    "plot_collection(trial, \"metrics\")"
   ]
  },
  {
   "cell_type": "code",
   "execution_count": 50,
   "metadata": {},
   "outputs": [
    {
     "name": "stdout",
     "output_type": "stream",
     "text": [
      "['feature_importance/weight/f0', 'feature_importance/weight/f41', 'feature_importance/weight/f47', 'feature_importance/weight/f6', 'feature_importance/weight/f8']\n"
     ]
    },
    {
     "data": {
      "image/png": "[encoded data removed]",
      "text/plain": [
       "<Figure size 576x432 with 1 Axes>"
      ]
     },
     "metadata": {
      "needs_background": "light"
     },
     "output_type": "display_data"
    }
   ],
   "source": [
    "plot_feature_importance(trial)"
   ]
  },
  {
   "cell_type": "code",
   "execution_count": 53,
   "metadata": {},
   "outputs": [
    {
     "data": {
      "image/png": "[encoded data removed]",
      "text/plain": [
       "<Figure size 576x684 with 1 Axes>"
      ]
     },
     "metadata": {
      "needs_background": "light"
     },
     "output_type": "display_data"
    }
   ],
   "source": [
    "import shap\n",
    "shap_values = trial.tensor(\"full_shap/f0\").value(trial.last_complete_step)\n",
    "shap_no_base = shap_values[:, :-1]\n",
    "shap_base_value = shap_values[0, -1]\n",
    "shap.summary_plot(shap_no_base, plot_type='bar', feature_names=feature_names)"
   ]
  },
  {
   "cell_type": "code",
   "execution_count": 2,
   "metadata": {},
   "outputs": [
    {
     "ename": "NameError",
     "evalue": "name 'shap' is not defined",
     "output_type": "error",
     "traceback": [
      "\u001b[0;31m---------------------------------------------------------------------------\u001b[0m",
      "\u001b[0;31mNameError\u001b[0m                                 Traceback (most recent call last)",
      "\u001b[0;32m<ipython-input-2-33a95466bf49>\u001b[0m in \u001b[0;36m<module>\u001b[0;34m\u001b[0m\n\u001b[0;32m----> 1\u001b[0;31m \u001b[0mshap\u001b[0m\u001b[0;34m.\u001b[0m\u001b[0mplots\u001b[0m\u001b[0;34m.\u001b[0m\u001b[0mbeeswarm\u001b[0m\u001b[0;34m(\u001b[0m\u001b[0mshap_values\u001b[0m\u001b[0;34m)\u001b[0m\u001b[0;34m\u001b[0m\u001b[0;34m\u001b[0m\u001b[0m\n\u001b[0m",
      "\u001b[0;31mNameError\u001b[0m: name 'shap' is not defined"
     ]
    }
   ],
   "source": [
    "shap.plots.beeswarm(shap_values)"
   ]
  },
  {
   "cell_type": "code",
   "execution_count": 65,
   "metadata": {},
   "outputs": [
    {
     "name": "stdout",
     "output_type": "stream",
     "text": [
      "-------------!"
     ]
    }
   ],
   "source": [
    "import sagemaker\n",
    "from sagemaker.serializers import CSVSerializer\n",
    "xgb_predictor=xgb.deploy(\n",
    "    initial_instance_count=1,\n",
    "    instance_type='ml.t2.medium',\n",
    "    serializer=CSVSerializer()\n",
    ")"
   ]
  },
  {
   "cell_type": "code",
   "execution_count": 80,
   "metadata": {},
   "outputs": [],
   "source": [
    "import numpy as np\n",
    "def predict(data, model, rows=500):\n",
    "    split_array = np.array_split(data, int(data.shape[0] / float(rows) + 1))\n",
    "    predictions = ''\n",
    "    for array in split_array:\n",
    "        predictions = ','.join([predictions, model.predict(array).decode('utf-8')])\n",
    "\n",
    "    return np.fromstring(predictions[1:], sep=',')\n"
   ]
  },
  {
   "cell_type": "code",
   "execution_count": 94,
   "metadata": {},
   "outputs": [
    {
     "data": {
      "image/png": "[encoded data removed]",
      "text/plain": [
       "<Figure size 432x288 with 1 Axes>"
      ]
     },
     "metadata": {
      "needs_background": "light"
     },
     "output_type": "display_data"
    }
   ],
   "source": [
    "import matplotlib.pyplot as plt\n",
    "\n",
    "\n",
    "predictions = predict(X_test.to_numpy(), xgb_predictor)\n",
    "plt.hist(predictions)\n",
    "plt.show()"
   ]
  },
  {
   "cell_type": "code",
   "execution_count": 103,
   "metadata": {},
   "outputs": [
    {
     "name": "stdout",
     "output_type": "stream",
     "text": [
      "AUC is 0.8633\n"
     ]
    },
    {
     "data": {
      "image/png": "[encoded data removed]",
      "text/plain": [
       "<Figure size 432x288 with 1 Axes>"
      ]
     },
     "metadata": {
      "needs_background": "light"
     },
     "output_type": "display_data"
    }
   ],
   "source": [
    "y_pred=np.round(predictions,4)\n",
    "\n",
    "from sklearn import metrics\n",
    "\n",
    "auc = round(roc_auc_score(y_test, y_pred), 4)\n",
    "print('AUC is ' + repr(auc))\n",
    "\n",
    "fpr, tpr, _ = metrics.roc_curve(y_test, y_pred)\n",
    "\n",
    "plt.title('ROC Curve')\n",
    "plt.plot(fpr, tpr, 'b',\n",
    "label='AUC = %0.2f'% auc)\n",
    "plt.legend(loc='lower right')\n",
    "plt.plot([0,1],[0,1],'r--')\n",
    "plt.xlim([-0.1,1.1])\n",
    "plt.ylim([-0.1,1.1])\n",
    "plt.ylabel('True Positive Rate')\n",
    "plt.xlabel('False Positive Rate')\n",
    "plt.show()\n"
   ]
  },
  {
   "cell_type": "code",
   "execution_count": 104,
   "metadata": {},
   "outputs": [
    {
     "name": "stdout",
     "output_type": "stream",
     "text": [
      "   min_score max_score  events  nonevents     total event_rate nonevent_rate  \\\n",
      "0     0.1306    0.8335  3714.0    11793.0   15507.0     23.95%        76.05%   \n",
      "1     0.0658    0.1305  1397.0    14111.0   15508.0      9.01%        90.99%   \n",
      "2     0.0393    0.0657   801.0    14706.0   15507.0      5.17%        94.83%   \n",
      "3     0.0265    0.0392   486.0    15007.0   15493.0      3.14%        96.86%   \n",
      "4     0.0187    0.0264   346.0    15159.0   15505.0      2.23%        97.77%   \n",
      "5     0.0131    0.0186   198.0    15340.0   15538.0      1.27%        98.73%   \n",
      "6     0.0078     0.013   123.0    15292.0   15415.0      0.80%        99.20%   \n",
      "7     0.0018    0.0077    45.0    15524.0   15569.0      0.29%        99.71%   \n",
      "8     0.0008    0.0017     2.0    12862.0   12864.0      0.02%        99.98%   \n",
      "9     0.0002    0.0007     3.0    18209.0   18212.0      0.02%        99.98%   \n",
      "10                      7115.0   148003.0  155118.0      4.59%        95.41%   \n",
      "\n",
      "   % events % nonevents % cum_events % cum_nonevents    KS  \n",
      "0    52.20%       7.97%       52.20%           7.97%  44.2  \n",
      "1    19.63%       9.53%       71.83%          17.50%  54.3  \n",
      "2    11.26%       9.94%       83.09%          27.44%  55.7  \n",
      "3     6.83%      10.14%       89.92%          37.58%  52.3  \n",
      "4     4.86%      10.24%       94.79%          47.82%  47.0  \n",
      "5     2.78%      10.36%       97.57%          58.19%  39.4  \n",
      "6     1.73%      10.33%       99.30%          68.52%  30.8  \n",
      "7     0.63%      10.49%       99.93%          79.01%  20.9  \n",
      "8     0.03%       8.69%       99.96%          87.70%  12.3  \n",
      "9     0.04%      12.30%      100.00%         100.00%   0.0  \n",
      "10  100.00%     100.00%                               55.7  \n",
      "\u001b[31mKS is 55.7% at decile 2\n"
     ]
    }
   ],
   "source": [
    "#run the validation on test data\n",
    "import pandas as pd\n",
    "\n",
    "#merge only the test dataset\n",
    "y_test_hat=y_pred\n",
    "# y_test_hat\n",
    "#convert ndarray to a dataframe, so that it can merge with true y in the merge statement\n",
    "\n",
    "y_test_hat_df=pd.DataFrame(data=y_test_hat, columns=['Y_hats'], index=X_test.index.copy())\n",
    "\n",
    "df_out=pd.merge(y_test, y_test_hat_df, how='left', left_index=True, right_index=True)\n",
    "ks_test=ks(data=df_out, target='badflag', prob='Y_hats')"
   ]
  },
  {
   "cell_type": "code",
   "execution_count": 105,
   "metadata": {},
   "outputs": [],
   "source": [
    "ks_test.to_excel('slows_sagemaker_ks.xlsx')"
   ]
  },
  {
   "cell_type": "code",
   "execution_count": 115,
   "metadata": {},
   "outputs": [],
   "source": [
    "def gini(actual, pred):\n",
    "    assert (len(actual) == len(pred))\n",
    "    all = np.asarray(np.c_[actual, pred, np.arange(len(actual))], dtype=np.float)\n",
    "    all = all[np.lexsort((all[:, 2], -1 * all[:, 1]))]\n",
    "    totalLosses = all[:, 0].sum()\n",
    "    giniSum = all[:, 0].cumsum().sum() / totalLosses\n",
    "\n",
    "    giniSum -= (len(actual) + 1) / 2.\n",
    "    return giniSum / len(actual)\n",
    "\n",
    "\n",
    "def gini_normalized(actual, pred):\n",
    "    return gini(actual, pred) / gini(actual, actual)"
   ]
  },
  {
   "cell_type": "code",
   "execution_count": 98,
   "metadata": {},
   "outputs": [
    {
     "name": "stdout",
     "output_type": "stream",
     "text": [
      "Normalized Gini: 0.727\n"
     ]
    }
   ],
   "source": [
    "ngini= gini_normalized(y_test, y_pred)\n",
    "print('Normalized Gini: %.3f' % (ngini))"
   ]
  },
  {
   "cell_type": "code",
   "execution_count": 64,
   "metadata": {},
   "outputs": [],
   "source": [
    "#xgb_predictor.delete_endpoint()"
   ]
  }
 ],
 "metadata": {
  "kernelspec": {
   "display_name": "conda_python3",
   "language": "python",
   "name": "conda_python3"
  },
  "language_info": {
   "codemirror_mode": {
    "name": "ipython",
    "version": 3
   },
   "file_extension": ".py",
   "mimetype": "text/x-python",
   "name": "python",
   "nbconvert_exporter": "python",
   "pygments_lexer": "ipython3",
   "version": "3.6.10"
  }
 },
 "nbformat": 4,
 "nbformat_minor": 4
}
