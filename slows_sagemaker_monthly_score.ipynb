{
 "cells": [
  {
   "cell_type": "code",
   "execution_count": 1,
   "metadata": {},
   "outputs": [],
   "source": [
    "# Import packages\n",
    "\n",
    "import pandas as pd\n",
    "\n",
    "import numpy as np\n",
    "import _pickle as cpickle\n",
    "import matplotlib.pyplot as plt\n",
    "import pickle as pkl\n",
    "from sklearn import metrics\n",
    "from sklearn.metrics import confusion_matrix\n",
    "from sklearn.metrics import accuracy_score\n",
    "from sklearn.metrics import roc_auc_score\n",
    "\n",
    "import sagemaker\n",
    "import boto3\n",
    "from sagemaker.predictor import csv_serializer\n",
    "from sagemaker import get_execution_role\n",
    "import sys\n",
    "sys.path.insert(0, '/home/ec2-user/SageMaker/mymodule/')\n",
    "\n",
    "from common_functions import psi\n",
    "from common_functions import ks\n",
    "from common_functions import gini \n",
    "\n",
    "from common_functions import gini_normalized\n",
    "\n",
    "import boto3\n",
    "import io\n",
    "import os\n",
    "import datetime as dt\n",
    "\n",
    "\n",
    "\n",
    "\n",
    "%matplotlib inline"
   ]
  },
  {
   "cell_type": "code",
   "execution_count": 2,
   "metadata": {},
   "outputs": [
    {
     "name": "stderr",
     "output_type": "stream",
     "text": [
      "/home/ec2-user/anaconda3/envs/python3/lib/python3.6/site-packages/boto3/compat.py:88: PythonDeprecationWarning: Boto3 will no longer support Python 3.6 starting May 30, 2022. To continue receiving service updates, bug fixes, and security updates please upgrade to Python 3.7 or later. More information can be found here: https://aws.amazon.com/blogs/developer/python-support-policy-updates-for-aws-sdks-and-tools/\n",
      "  warnings.warn(warning, PythonDeprecationWarning)\n"
     ]
    }
   ],
   "source": [
    "bucket = 'mf-ml-ds'\n",
    "\n",
    "prefix = 'propensity_to_pay/source'\n",
    "# s3_source = 's3://'+ bucket_name +'/propensity_to_fund/model_monitor/val_'\n",
    "# s3_source_path  = s3_source + YYYYMM\n",
    "# s3_score_target  = 'propensity_to_fund/model_monitor/val_' + YYYYMM +'/'\n",
    "# # pps_score_file_name = 'xgb_weighted_score_pot_' + YYYYMM +'.csv'\n",
    "\n",
    "# psi_file_path = 's3://'+ bucket_name + '/' + s3_score_target\n",
    "model_path = 'propensity_to_pay/final_model/'\n",
    "\n",
    "\n",
    "s3 = boto3.resource('s3')"
   ]
  },
  {
   "cell_type": "code",
   "execution_count": 3,
   "metadata": {},
   "outputs": [
    {
     "data": {
      "text/plain": [
       "(579619, 629)"
      ]
     },
     "execution_count": 3,
     "metadata": {},
     "output_type": "execute_result"
    }
   ],
   "source": [
    "#change the most recent data for validation\n",
    "df=pd.read_csv('s3://mf-ml-ds/propensity_to_pay/Production/slows.csv')\n",
    "\n",
    "df.shape\n"
   ]
  },
  {
   "cell_type": "code",
   "execution_count": 4,
   "metadata": {},
   "outputs": [],
   "source": [
    "ptable=pd.read_csv('../sagemaker/slows_capfloor.csv')"
   ]
  },
  {
   "cell_type": "code",
   "execution_count": 5,
   "metadata": {},
   "outputs": [],
   "source": [
    "feature_location = 's3://{}/{}/{}'.format(bucket, prefix, 'feature')\n",
    "df_feature = pd.read_csv(feature_location+'/feature.csv')\n",
    "feature_names = df_feature.columns"
   ]
  },
  {
   "cell_type": "code",
   "execution_count": 6,
   "metadata": {},
   "outputs": [
    {
     "data": {
      "text/plain": [
       "Index(['RefreshFicoScore', 'Original_Term', 'LNAPRO', 'number_of_prior_loans',\n",
       "       'DISPOSABLE_INCOME', 'yrs_on_job_dbl', '__of_days_until_pmt_date',\n",
       "       'MaxCarValue', 'Times29_Ever', 'Times30_Ever', 'Times90_Ever',\n",
       "       'ADA_3236', 'ADA_3117', 'ADA_3113', 'ADA_3124', 'ADA_3756', 'ADA_3854',\n",
       "       'ADA_3122', 'ADA_3135', 'ADA_3159', 'ADA_3268', 'ADA_3415', 'ADA_3743',\n",
       "       'ADA_3755', 'ADA_3798', 'ADA_3805', 'ADA_3843', 'ADA_3206', 'ADA_3293',\n",
       "       'ADA_3761', 'ADA_3835', 'ADA_3024', 'ADA_3027', 'ADA_3031', 'ADA_3580',\n",
       "       'ADA_3723', 'ADA_3395', 'ADA_3724', 'ADA_3758', 'ADA_3166', 'Homeowner',\n",
       "       'Auto_Pay_flag', 'PB', 'Coborrower', 'acflnps_n', 'lendingtree',\n",
       "       'CreditKumar', 'upb_ratio'],\n",
       "      dtype='object')"
      ]
     },
     "execution_count": 6,
     "metadata": {},
     "output_type": "execute_result"
    }
   ],
   "source": [
    "feature_names"
   ]
  },
  {
   "cell_type": "code",
   "execution_count": 7,
   "metadata": {},
   "outputs": [],
   "source": [
    "y_id=df.loc[:,'FFC_Source_Input_2']"
   ]
  },
  {
   "cell_type": "code",
   "execution_count": 8,
   "metadata": {},
   "outputs": [],
   "source": [
    "\n",
    "X_val=df[feature_names]"
   ]
  },
  {
   "cell_type": "code",
   "execution_count": 9,
   "metadata": {},
   "outputs": [
    {
     "name": "stderr",
     "output_type": "stream",
     "text": [
      "/home/ec2-user/anaconda3/envs/python3/lib/python3.6/site-packages/pandas/core/indexing.py:966: SettingWithCopyWarning: \n",
      "A value is trying to be set on a copy of a slice from a DataFrame.\n",
      "Try using .loc[row_indexer,col_indexer] = value instead\n",
      "\n",
      "See the caveats in the documentation: https://pandas.pydata.org/pandas-docs/stable/user_guide/indexing.html#returning-a-view-versus-a-copy\n",
      "  self.obj[item] = s\n",
      "/home/ec2-user/anaconda3/envs/python3/lib/python3.6/site-packages/pandas/core/indexing.py:671: SettingWithCopyWarning: \n",
      "A value is trying to be set on a copy of a slice from a DataFrame\n",
      "\n",
      "See the caveats in the documentation: https://pandas.pydata.org/pandas-docs/stable/user_guide/indexing.html#returning-a-view-versus-a-copy\n",
      "  self._setitem_with_indexer(indexer, value)\n",
      "/home/ec2-user/anaconda3/envs/python3/lib/python3.6/site-packages/ipykernel/__main__.py:6: SettingWithCopyWarning: \n",
      "A value is trying to be set on a copy of a slice from a DataFrame\n",
      "\n",
      "See the caveats in the documentation: https://pandas.pydata.org/pandas-docs/stable/user_guide/indexing.html#returning-a-view-versus-a-copy\n",
      "/home/ec2-user/anaconda3/envs/python3/lib/python3.6/site-packages/ipykernel/__main__.py:5: SettingWithCopyWarning: \n",
      "A value is trying to be set on a copy of a slice from a DataFrame\n",
      "\n",
      "See the caveats in the documentation: https://pandas.pydata.org/pandas-docs/stable/user_guide/indexing.html#returning-a-view-versus-a-copy\n"
     ]
    }
   ],
   "source": [
    "    \n",
    "    \n",
    "    for col in X_val.columns:\n",
    "        p1 = ptable[col].min()\n",
    "        p99= ptable[col].max()\n",
    "    \n",
    "        X_val.loc[X_val[col] <= p1, col] = p1\n",
    "        X_val.loc[X_val[col] >= p99, col] = p99\n",
    "        \n",
    "X_val=X_val.fillna(0)\n",
    "    "
   ]
  },
  {
   "cell_type": "markdown",
   "metadata": {},
   "source": [
    "ML Preparation"
   ]
  },
  {
   "cell_type": "code",
   "execution_count": 10,
   "metadata": {},
   "outputs": [],
   "source": [
    "endpoint_name='mf-ml-pps-slows-xgb-jn-2022-02-14-19-56-07-434'\n",
    "\n"
   ]
  },
  {
   "cell_type": "code",
   "execution_count": 11,
   "metadata": {},
   "outputs": [],
   "source": [
    "xgb_predictor = sagemaker.predictor.Predictor(endpoint_name = endpoint_name\n",
    "                                       , sagemaker_session=sagemaker.Session()\n",
    "                                       ,serializer=sagemaker.serializers.CSVSerializer())"
   ]
  },
  {
   "cell_type": "code",
   "execution_count": 12,
   "metadata": {},
   "outputs": [],
   "source": [
    "def predict(data, model, rows=500):\n",
    "    split_array = np.array_split(data, int(data.shape[0] / float(rows) + 1))\n",
    "    predictions = ''\n",
    "    for array in split_array:\n",
    "        predictions = ','.join([predictions, model.predict(array).decode('utf-8')])\n",
    "\n",
    "    return np.fromstring(predictions[1:], sep=',')\n",
    "\n"
   ]
  },
  {
   "cell_type": "code",
   "execution_count": 13,
   "metadata": {},
   "outputs": [
    {
     "data": {
      "image/png": "[encoded data removed]",
      "text/plain": [
       "<Figure size 432x288 with 1 Axes>"
      ]
     },
     "metadata": {
      "needs_background": "light"
     },
     "output_type": "display_data"
    }
   ],
   "source": [
    "predictions = predict(X_val.to_numpy(), xgb_predictor)\n",
    "plt.hist(predictions)\n",
    "plt.show()\n"
   ]
  },
  {
   "cell_type": "code",
   "execution_count": 14,
   "metadata": {},
   "outputs": [],
   "source": [
    "y_pred=np.round(predictions,4)\n",
    "y_val_hat_df=pd.DataFrame(data=y_pred, columns=['pps'], index=X_val.index.copy())\n",
    "\n",
    "df_pred=pd.merge(y_id, y_val_hat_df, how='left', left_index=True, right_index=True)"
   ]
  },
  {
   "cell_type": "code",
   "execution_count": 15,
   "metadata": {},
   "outputs": [
    {
     "data": {
      "text/html": [
       "<div>\n",
       "<style scoped>\n",
       "    .dataframe tbody tr th:only-of-type {\n",
       "        vertical-align: middle;\n",
       "    }\n",
       "\n",
       "    .dataframe tbody tr th {\n",
       "        vertical-align: top;\n",
       "    }\n",
       "\n",
       "    .dataframe thead th {\n",
       "        text-align: right;\n",
       "    }\n",
       "</style>\n",
       "<table border=\"1\" class=\"dataframe\">\n",
       "  <thead>\n",
       "    <tr style=\"text-align: right;\">\n",
       "      <th></th>\n",
       "      <th>FFC_Source_Input_2</th>\n",
       "      <th>pps</th>\n",
       "    </tr>\n",
       "  </thead>\n",
       "  <tbody>\n",
       "    <tr>\n",
       "      <th>0</th>\n",
       "      <td>7003025867</td>\n",
       "      <td>0.0219</td>\n",
       "    </tr>\n",
       "    <tr>\n",
       "      <th>1</th>\n",
       "      <td>3752004084</td>\n",
       "      <td>0.0008</td>\n",
       "    </tr>\n",
       "    <tr>\n",
       "      <th>2</th>\n",
       "      <td>7867007324</td>\n",
       "      <td>0.0009</td>\n",
       "    </tr>\n",
       "    <tr>\n",
       "      <th>3</th>\n",
       "      <td>7103009284</td>\n",
       "      <td>0.0730</td>\n",
       "    </tr>\n",
       "    <tr>\n",
       "      <th>4</th>\n",
       "      <td>7526003658</td>\n",
       "      <td>0.0770</td>\n",
       "    </tr>\n",
       "    <tr>\n",
       "      <th>...</th>\n",
       "      <td>...</td>\n",
       "      <td>...</td>\n",
       "    </tr>\n",
       "    <tr>\n",
       "      <th>579614</th>\n",
       "      <td>7901011540</td>\n",
       "      <td>0.0088</td>\n",
       "    </tr>\n",
       "    <tr>\n",
       "      <th>579615</th>\n",
       "      <td>4006019185</td>\n",
       "      <td>0.0468</td>\n",
       "    </tr>\n",
       "    <tr>\n",
       "      <th>579616</th>\n",
       "      <td>1516004269</td>\n",
       "      <td>0.0061</td>\n",
       "    </tr>\n",
       "    <tr>\n",
       "      <th>579617</th>\n",
       "      <td>5015003132</td>\n",
       "      <td>0.2511</td>\n",
       "    </tr>\n",
       "    <tr>\n",
       "      <th>579618</th>\n",
       "      <td>8029024215</td>\n",
       "      <td>0.0117</td>\n",
       "    </tr>\n",
       "  </tbody>\n",
       "</table>\n",
       "<p>579619 rows × 2 columns</p>\n",
       "</div>"
      ],
      "text/plain": [
       "        FFC_Source_Input_2     pps\n",
       "0               7003025867  0.0219\n",
       "1               3752004084  0.0008\n",
       "2               7867007324  0.0009\n",
       "3               7103009284  0.0730\n",
       "4               7526003658  0.0770\n",
       "...                    ...     ...\n",
       "579614          7901011540  0.0088\n",
       "579615          4006019185  0.0468\n",
       "579616          1516004269  0.0061\n",
       "579617          5015003132  0.2511\n",
       "579618          8029024215  0.0117\n",
       "\n",
       "[579619 rows x 2 columns]"
      ]
     },
     "execution_count": 15,
     "metadata": {},
     "output_type": "execute_result"
    }
   ],
   "source": [
    "df_pred"
   ]
  },
  {
   "cell_type": "code",
   "execution_count": 16,
   "metadata": {},
   "outputs": [],
   "source": [
    "df_pred.to_csv('slows_score.csv', index=False)\n"
   ]
  },
  {
   "cell_type": "code",
   "execution_count": null,
   "metadata": {},
   "outputs": [],
   "source": []
  }
 ],
 "metadata": {
  "kernelspec": {
   "display_name": "conda_python3",
   "language": "python",
   "name": "conda_python3"
  },
  "language_info": {
   "codemirror_mode": {
    "name": "ipython",
    "version": 3
   },
   "file_extension": ".py",
   "mimetype": "text/x-python",
   "name": "python",
   "nbconvert_exporter": "python",
   "pygments_lexer": "ipython3",
   "version": "3.6.10"
  }
 },
 "nbformat": 4,
 "nbformat_minor": 4
}
